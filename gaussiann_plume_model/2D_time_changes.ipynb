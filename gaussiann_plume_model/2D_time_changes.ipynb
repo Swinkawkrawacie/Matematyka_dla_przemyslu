{
 "cells": [
  {
   "cell_type": "code",
   "execution_count": 1,
   "id": "driven-alcohol",
   "metadata": {},
   "outputs": [
    {
     "name": "stderr",
     "output_type": "stream",
     "text": [
      "Warning message:\n",
      "\"pakiet 'ggplot2' został zbudowany w wersji R 4.2.2\"\n",
      "\n",
      "Dołączanie pakietu: 'dplyr'\n",
      "\n",
      "\n",
      "Następujące obiekty zostały zakryte z 'package:stats':\n",
      "\n",
      "    filter, lag\n",
      "\n",
      "\n",
      "Następujące obiekty zostały zakryte z 'package:base':\n",
      "\n",
      "    intersect, setdiff, setequal, union\n",
      "\n",
      "\n",
      "Warning message:\n",
      "\"pakiet 'plot3D' został zbudowany w wersji R 4.2.2\"\n"
     ]
    }
   ],
   "source": [
    "library('ggplot2')\n",
    "library('dplyr')\n",
    "library(\"plot3D\")"
   ]
  },
  {
   "cell_type": "code",
   "execution_count": 2,
   "id": "quantitative-found",
   "metadata": {},
   "outputs": [],
   "source": [
    "data_wind <- read.csv('wind_clouds.csv')\n",
    "colnames(data_wind) <- c('time','clouds','sun', 'speed', 'direction')"
   ]
  },
  {
   "cell_type": "code",
   "execution_count": 85,
   "id": "surprised-price",
   "metadata": {},
   "outputs": [],
   "source": [
    "find_category <- function(speed, sun, clouds){\n",
    "    if(speed<2){\n",
    "        if(sun>=280) p<-'A'\n",
    "        else if(sun>=120) p<-'B'\n",
    "        else if(clouds>=50) p<-'E'\n",
    "        else p<-'F'\n",
    "    }\n",
    "    else if(speed<3){\n",
    "        if(sun>=479) p<-'A'\n",
    "        else if(sun>=280) p<-'B'\n",
    "        else if(sun>=120) p<-'C'\n",
    "        else if(clouds>=50) p<-'E'\n",
    "        else p<-'F'\n",
    "    }\n",
    "    else if(speed<5){\n",
    "        if(sun>=280) p<-'B'\n",
    "        else if(sun>=120) p<-'C'\n",
    "        else if(clouds>=50) p<-'D'\n",
    "        else p<-'E'\n",
    "    }\n",
    "    else if(speed<6){\n",
    "        if(sun>=280) p<-'C'\n",
    "        else p<-'D'\n",
    "    }\n",
    "    else{\n",
    "        if(sun>=479) p<-'C'\n",
    "        else p<-'D'\n",
    "    }\n",
    "    return(p)\n",
    "}"
   ]
  },
  {
   "cell_type": "code",
   "execution_count": 86,
   "id": "assured-fourth",
   "metadata": {},
   "outputs": [],
   "source": [
    "find_p <- function(category){\n",
    "    if(category=='A'|category=='B') p <- .15\n",
    "    else if(category=='C') p <- .2\n",
    "    else if(category=='D') p <- .25\n",
    "    else p <- .3\n",
    "    return(p)\n",
    "}"
   ]
  },
  {
   "cell_type": "code",
   "execution_count": 87,
   "id": "great-thunder",
   "metadata": {},
   "outputs": [],
   "source": [
    "find_a_b <- function(x,category){\n",
    "    if(category=='A'){\n",
    "        if(x<.1) pars <- c(122.800,0.94470)\n",
    "        else if(x<.15) pars <- c(158.080,1.05420)\n",
    "        else if(x<.2) pars <- c(170.220,1.09320)\n",
    "        else if(x<.25) pars <- c(179.520,1.12620)\n",
    "        else if(x<.3) pars <- c(217.410,1.26440)\n",
    "        else if(x<.4) pars <- c(258.890,1.40940)\n",
    "        else if(x<.5) pars <- c(346.750,1.72830)\n",
    "        else if(x<=3.11) pars <- c(453.850,2.11660)\n",
    "        else pars <- c(5000,1)\n",
    "    }\n",
    "    else if(category=='B'){\n",
    "        if(x<.2) pars <- c(90.673,0.93198)\n",
    "        else if(x<.4) pars <- c(98.483,0.98332)\n",
    "        else pars <- c(109.300,1.09710)\n",
    "    }\n",
    "    else if(category=='C') pars <- c(61.141,0.91465)\n",
    "    else if(category=='D'){\n",
    "        if(x<.3) pars <- c(34.459,0.86974)\n",
    "        else if(x<1) pars <- c(32.093,0.81066)\n",
    "        else if(x<3) pars <- c(32.093,0.64403)\n",
    "        else if(x<10) pars <- c(33.504,0.60486)\n",
    "        else if(x<30) pars <- c(36.650,0.56589)\n",
    "        else pars <- c(44.053,0.51179)\n",
    "    }\n",
    "    else if(category=='E'){\n",
    "        if(x<.1) pars <- c(24.260,0.83660)\n",
    "        else if(x<.3) pars <- c(23.331,0.81956)\n",
    "        else if(x<1) pars <- c(21.628,0.75660)\n",
    "        else if(x<2) pars <- c(21.628,0.63077)\n",
    "        else if(x<4) pars <- c(22.534,0.57154)\n",
    "        else if(x<10) pars <- c(24.703,0.50527)\n",
    "        else if(x<20) pars <- c(26.970,0.46713)\n",
    "        else if(x<40) pars <- c(35.420,0.37615)\n",
    "        else pars <- c(47.618,0.29592)\n",
    "    }\n",
    "    else{\n",
    "        if(x<.2) pars <- c(15.209,0.81558)\n",
    "        else if(x<.7) pars <- c(14.457,0.78407)\n",
    "        else if(x<1) pars <- c(13.953,0.68465)\n",
    "        else if(x<2) pars <- c(13.953,0.63227)\n",
    "        else if(x<3) pars <- c(14.823,0.54503)\n",
    "        else if(x<7) pars <- c(16.187,0.46490)\n",
    "        else if(x<15) pars <- c(17.836,0.41507)\n",
    "        else if(x<30) pars <- c(22.651,0.32681)\n",
    "        else if(x<60) pars <- c(27.074,0.27436)\n",
    "        else pars <- c(34.219,0.21716)\n",
    "    }\n",
    "    return(pars)\n",
    "}"
   ]
  },
  {
   "cell_type": "code",
   "execution_count": 88,
   "id": "welsh-charleston",
   "metadata": {},
   "outputs": [],
   "source": [
    "find_theta <- function(x,category){\n",
    "    if(category=='A') pars <- c(24.1670,2.5334)\n",
    "    else if(category=='B') pars <- c(18.3330,1.8096)\n",
    "    else if(category=='C') pars <- c(12.5000,1.0857)\n",
    "    else if(category=='D') pars <- c(8.3330,0.72382)\n",
    "    else if(category=='E') pars <- c(6.2500,0.54287)\n",
    "    else pars <- c(4.1667,0.36191)\n",
    "    theta <- .017453293*(pars[1]-pars[2]*log(x))\n",
    "    return(theta)\n",
    "}"
   ]
  },
  {
   "cell_type": "code",
   "execution_count": 89,
   "id": "primary-updating",
   "metadata": {},
   "outputs": [],
   "source": [
    "get_concentration <- function(Q,u,h,dy,dz,y,z){\n",
    "    result = Q/(2*pi*u*dy*dz)*(exp(-(z-h)^2/(2*dz^2))+exp(-(z-h)^2/(2*dz^2)))*exp(-y^2/(2*dy^2))\n",
    "    return(result)\n",
    "}"
   ]
  },
  {
   "cell_type": "code",
   "execution_count": 90,
   "id": "accredited-western",
   "metadata": {},
   "outputs": [],
   "source": [
    "gaussian_plume_xyh <- function(row,y,z, h=10, x_vec=seq(.1,10,.01), Q=10){\n",
    "    category <- find_category(row$speed,row$sun,row$clouds)\n",
    "    p <- find_p(category)\n",
    "    cs <- c()\n",
    "    for(x in x_vec){\n",
    "        if(x<=0){\n",
    "            cs <- c(cs,0)\n",
    "            next\n",
    "        }\n",
    "        a_b <- find_a_b(x,category)\n",
    "        theta <- find_theta(x,category)\n",
    "        u <- row$speed*(h/10)^p\n",
    "        a <- a_b[1]\n",
    "        b <- a_b[2]\n",
    "        dz <- a*x**b\n",
    "        if(dz>5000) dz<-5000\n",
    "        dy <- 465.11628*x*tan(theta)\n",
    "        c1 <- get_concentration(Q,u,h,dy,dz,y,z)\n",
    "        cs <- c(cs,c1)\n",
    "    }\n",
    "    return(cs)\n",
    "}"
   ]
  },
  {
   "cell_type": "code",
   "execution_count": 91,
   "id": "initial-sphere",
   "metadata": {},
   "outputs": [],
   "source": [
    "pollution_average2 <- function(en,r,c){\n",
    "    new_matrix <- matrix(data=0, nrow=r, ncol=c)\n",
    "    new_matrix[1,1] = mean(c(en[1,1],en[2,1],en[1,2],0,0))\n",
    "    new_matrix[1,c] = mean(c(en[1,c],en[2,c],en[1,(c-1)],0,0))\n",
    "    new_matrix[r,1] = mean(c(en[r,1],en[(r-1),1],en[r,2],0,0))\n",
    "    new_matrix[r,c] = mean(c(en[r,c],en[(r-1),c],en[r,(c-1)],0,0))\n",
    "    for(i in 2:(r-1)) new_matrix[i,1] = mean(c(en[i,1],en[i-1,1],en[i+1,1],en[i,2],0))\n",
    "    for(i in 2:(r-1)) new_matrix[i,c] = mean(c(en[i,c],en[i-1,c],en[i+1,c],en[i,(c-1)],0))\n",
    "    for(j in 2:(c-1)) new_matrix[1,j] = mean(c(en[1,j-1],en[1,j],en[1,j+1],en[2,c],0))\n",
    "    for(j in 2:(c-1)) new_matrix[r,j] = mean(c(en[r,j-1],en[r,j],en[r,j+1],en[(r-1),j],0))\n",
    "    for(i in 2:(r-1)){\n",
    "        for(j in 2:(c-1)) new_matrix[i,j] = mean(c(en[i,j],en[i-1,j],en[i+1,j],en[i,j-1],en[i,j+1]))\n",
    "    }\n",
    "    return(new_matrix)\n",
    "}"
   ]
  },
  {
   "cell_type": "code",
   "execution_count": 92,
   "id": "ambient-vulnerability",
   "metadata": {},
   "outputs": [],
   "source": [
    "plume_time_gen <- function(t,base,h,sx,sy,z){\n",
    "    nx <- length(sx)\n",
    "    ny <- length(sy)\n",
    "    nt <- nx*ny\n",
    "    y_base <- c()\n",
    "    for(i in sy) y_base <- c(y_base,rep(i,nx))\n",
    "    old <- data.frame(y_base,rep(sx,ny),rep(0,nt))\n",
    "    colnames(old) <- c('y','x','cs')\n",
    "    old <- old %>% group_by(y,x)\n",
    "    for(j in t){\n",
    "        row <- base[j,]\n",
    "        angle <- row$direction*2*pi/360\n",
    "        cond <- data.frame()\n",
    "        for(i in sy){\n",
    "            temp <- gaussian_plume_xyh(row,i,z,h=h,x_vec=sx)\n",
    "            df_temp <- data.frame(rep(i,nx),sx,temp)\n",
    "            colnames(df_temp) <- c('y','x','cs')\n",
    "            cond <- rbind(cond,df_temp)\n",
    "        }\n",
    "        old_temp <- t(matrix(old$cs,nrow=nx,ncol=ny))\n",
    "        new_base <- pollution_average2(old_temp,ny,nx)\n",
    "        new <- c()\n",
    "        for(i in 1:(dim(new_base)[1])) new <- c(new,new_base[i,])\n",
    "        old$cs <- new\n",
    "        cond$x <- round(cond$x*cos(angle)-cond$y*sin(angle),2)\n",
    "        cond$y <- round(cond$y*cos(angle)+cond$x*sin(angle),2)\n",
    "        cond <- cond[cond$y %in% sy,]\n",
    "        cond <- cond[cond$x %in% sx,]\n",
    "        cond <- cond %>% group_by(y,x) %>% summarise(cs=mean(cs))\n",
    "        old <- rbind(old,cond)\n",
    "        old <- old %>% group_by(y,x) %>% summarise(cs=sum(cs))\n",
    "    }\n",
    "    return(old)\n",
    "}"
   ]
  },
  {
   "cell_type": "code",
   "execution_count": 47,
   "id": "infectious-index",
   "metadata": {},
   "outputs": [
    {
     "name": "stderr",
     "output_type": "stream",
     "text": [
      "\u001b[1m\u001b[22m`summarise()` has grouped output by 'y'. You can override using the `.groups` argument.\n",
      "\u001b[1m\u001b[22m`summarise()` has grouped output by 'y'. You can override using the `.groups` argument.\n"
     ]
    }
   ],
   "source": [
    "m3 <- plume_time_gen(c(3),data_wind,10,seq(0.001,0.15,0.001),seq(-10,10,.01),11)"
   ]
  },
  {
   "cell_type": "code",
   "execution_count": 83,
   "id": "seeing-investing",
   "metadata": {},
   "outputs": [
    {
     "ename": "ERROR",
     "evalue": "Error in eval(expr, envir, enclos): nie znaleziono obiektu 'm3'\n",
     "output_type": "error",
     "traceback": [
      "Error in eval(expr, envir, enclos): nie znaleziono obiektu 'm3'\nTraceback:\n"
     ]
    }
   ],
   "source": [
    "max(m3$cs)"
   ]
  },
  {
   "cell_type": "code",
   "execution_count": 48,
   "id": "another-roommate",
   "metadata": {},
   "outputs": [
    {
     "data": {
      "image/png": "[encoded data removed]",
      "text/plain": [
       "plot without title"
      ]
     },
     "metadata": {
      "image/png": {
       "height": 420,
       "width": 420
      }
     },
     "output_type": "display_data"
    }
   ],
   "source": [
    "heatmap(t(matrix(m3$cs,nrow=150,ncol=2001)), Rowv = NA, Colv = NA)"
   ]
  },
  {
   "cell_type": "code",
   "execution_count": 26,
   "id": "neither-account",
   "metadata": {},
   "outputs": [
    {
     "data": {
      "image/png": "[encoded data removed]",
      "text/plain": [
       "plot without title"
      ]
     },
     "metadata": {
      "image/png": {
       "height": 420,
       "width": 420
      }
     },
     "output_type": "display_data"
    }
   ],
   "source": [
    "ggplot(m1, aes(x,y,z=cs))+geom_contour_filled(breaks=c(0,0.001,0.01,0.1,0.5,1,max(m1$cs)))"
   ]
  },
  {
   "cell_type": "code",
   "execution_count": 101,
   "id": "major-associate",
   "metadata": {},
   "outputs": [],
   "source": [
    "y1 <- c()\n",
    "cond1 <- c()\n",
    "sx <- seq(0.01,1,0.01)\n",
    "nx <- length(sx)\n",
    "sy <- seq(-10,10,.01)\n",
    "ny <- length(sy)\n",
    "nt <- nx*ny\n",
    "base <- data_wind[300,]\n",
    "for(i in sy){\n",
    "    y1 <- c(y1,rep(i,nx))\n",
    "    cond1 <- c(cond1,gaussian_plume_xyh(base,i,0,h=10,x_vec=sx))\n",
    "}"
   ]
  },
  {
   "cell_type": "code",
   "execution_count": 102,
   "id": "meaningful-grill",
   "metadata": {},
   "outputs": [
    {
     "data": {
      "text/html": [
       "0.00247419977225381"
      ],
      "text/latex": [
       "0.00247419977225381"
      ],
      "text/markdown": [
       "0.00247419977225381"
      ],
      "text/plain": [
       "[1] 0.0024742"
      ]
     },
     "metadata": {},
     "output_type": "display_data"
    }
   ],
   "source": [
    "max(cond1)"
   ]
  },
  {
   "cell_type": "code",
   "execution_count": 103,
   "id": "gorgeous-ideal",
   "metadata": {
    "scrolled": false
   },
   "outputs": [
    {
     "data": {
      "image/png": "[encoded data removed]",
      "text/plain": [
       "plot without title"
      ]
     },
     "metadata": {
      "image/png": {
       "height": 420,
       "width": 420
      }
     },
     "output_type": "display_data"
    }
   ],
   "source": [
    "heatmap(t(matrix(cond1,nrow=100,ncol=2001)), Rowv = NA, Colv = NA)"
   ]
  },
  {
   "cell_type": "markdown",
   "id": "powerful-aurora",
   "metadata": {},
   "source": [
    "https://en.wikipedia.org/wiki/Rotation_of_axes"
   ]
  },
  {
   "cell_type": "code",
   "execution_count": 123,
   "id": "trying-rabbit",
   "metadata": {},
   "outputs": [],
   "source": [
    "y2 <- c()\n",
    "cond2 <- c()\n",
    "sx <- seq(0.01,2.01,0.01)\n",
    "sy <- seq(-10,10,.01)\n",
    "nx <- length(sx)\n",
    "ny <- length(sy)\n",
    "base <- data_wind[3,]\n",
    "for(i in sy){\n",
    "    y2 <- c(y2,rep(i,nx))\n",
    "    cond2 <- c(cond2,gaussian_plume_xyh(base,i,1.7,h=10,x_vec=sx))\n",
    "}"
   ]
  },
  {
   "cell_type": "code",
   "execution_count": 12,
   "id": "focused-chicago",
   "metadata": {},
   "outputs": [],
   "source": [
    "t1 <- seq(0.0001,0.2001,0.0001)\n",
    "t2 <- seq(-10,10,.01)\n",
    "t3 <- round(t1*cos(pi/6)+t2*sin(pi/6),4)\n",
    "t4 <- round(t2*cos(pi/6)-t1*sin(pi/6),4)\n",
    "t5 <- round(t3*cos(pi/6)-t4*sin(pi/6),4)\n",
    "t6 <- round(t4*cos(pi/6)+t3*sin(pi/6),2)"
   ]
  },
  {
   "cell_type": "code",
   "execution_count": 124,
   "id": "breathing-checklist",
   "metadata": {},
   "outputs": [
    {
     "name": "stderr",
     "output_type": "stream",
     "text": [
      "\u001b[1m\u001b[22m`summarise()` has grouped output by 'y'. You can override using the `.groups` argument.\n"
     ]
    }
   ],
   "source": [
    "df2 <- data.frame(y2,rep(sx,ny),cond2)\n",
    "colnames(df2) <- c('y','x','cs')\n",
    "df2 <- df2 %>% group_by(y,x) %>% summarise(cs=mean(cs))\n",
    "df2$x <- round(df2$x*cos(pi/6)-df2$y*sin(pi/6),2)\n",
    "df2$y <- round(df2$y*cos(pi/6)+df2$x*sin(pi/6),2)\n",
    "df2_2 <- df2[df2$x %in% sx & df2$y %in% sy,]"
   ]
  },
  {
   "cell_type": "code",
   "execution_count": 125,
   "id": "cordless-beads",
   "metadata": {},
   "outputs": [
    {
     "name": "stderr",
     "output_type": "stream",
     "text": [
      "\u001b[1m\u001b[22m`summarise()` has grouped output by 'y'. You can override using the `.groups` argument.\n"
     ]
    }
   ],
   "source": [
    "df3 <- data.frame(y2,rep(sx,ny),cond2)\n",
    "colnames(df3) <- c('y','x','cs')\n",
    "df3 <- df3 %>% group_by(y,x) %>% summarise(cs=mean(cs))"
   ]
  },
  {
   "cell_type": "code",
   "execution_count": 126,
   "id": "spanish-testimony",
   "metadata": {},
   "outputs": [
    {
     "data": {
      "image/png": "[encoded data removed]",
      "text/plain": [
       "plot without title"
      ]
     },
     "metadata": {
      "image/png": {
       "height": 420,
       "width": 420
      }
     },
     "output_type": "display_data"
    }
   ],
   "source": [
    "ggplot(df3, aes(x,y,z=cs))+geom_contour_filled()"
   ]
  },
  {
   "cell_type": "code",
   "execution_count": 127,
   "id": "comparative-technology",
   "metadata": {},
   "outputs": [
    {
     "data": {
      "image/png": "[encoded data removed]",
      "text/plain": [
       "plot without title"
      ]
     },
     "metadata": {
      "image/png": {
       "height": 420,
       "width": 420
      }
     },
     "output_type": "display_data"
    }
   ],
   "source": [
    "ggplot(df2, aes(x,y,z=cs))+geom_contour_filled()"
   ]
  },
  {
   "cell_type": "code",
   "execution_count": 128,
   "id": "motivated-evidence",
   "metadata": {},
   "outputs": [],
   "source": [
    "base1 <- t(matrix(0,nrow=201,ncol=2001))\n",
    "df2 <- df2[df2$x>0&df2$x<=0.21,]\n",
    "for(j in 1:length(df2$y)){\n",
    "    temp <- df2[j,]\n",
    "    base1[as.integer(temp$y*100+1001),as.integer(temp$x*100)] <- temp$cs\n",
    "}"
   ]
  },
  {
   "cell_type": "code",
   "execution_count": 129,
   "id": "cardiac-uganda",
   "metadata": {},
   "outputs": [
    {
     "data": {
      "image/png": "[encoded data removed]",
      "text/plain": [
       "plot without title"
      ]
     },
     "metadata": {
      "image/png": {
       "height": 420,
       "width": 420
      }
     },
     "output_type": "display_data"
    }
   ],
   "source": [
    "ggplot(df2, aes(x,y,z=cs))+geom_contour_filled()"
   ]
  },
  {
   "cell_type": "code",
   "execution_count": 130,
   "id": "conservative-fabric",
   "metadata": {},
   "outputs": [],
   "source": [
    "base2 <- base1+t(matrix(df3$cs,nrow=201,ncol=2001))"
   ]
  },
  {
   "cell_type": "code",
   "execution_count": 131,
   "id": "tribal-berlin",
   "metadata": {},
   "outputs": [],
   "source": [
    "df5 <- data.frame(df3$y,df3$x,c(base2))\n",
    "colnames(df5) <- c('y','x','cs')"
   ]
  },
  {
   "cell_type": "code",
   "execution_count": 134,
   "id": "efficient-comparison",
   "metadata": {},
   "outputs": [
    {
     "data": {
      "image/png": "[encoded data removed]",
      "text/plain": [
       "plot without title"
      ]
     },
     "metadata": {
      "image/png": {
       "height": 420,
       "width": 420
      }
     },
     "output_type": "display_data"
    }
   ],
   "source": [
    "ggplot(df5[df5$y<(-2),], aes(x,y,z=cs))+geom_contour_filled()"
   ]
  },
  {
   "cell_type": "code",
   "execution_count": 133,
   "id": "ruled-coral",
   "metadata": {},
   "outputs": [
    {
     "data": {
      "image/png": "[encoded data removed]",
      "text/plain": [
       "plot without title"
      ]
     },
     "metadata": {
      "image/png": {
       "height": 420,
       "width": 420
      }
     },
     "output_type": "display_data"
    }
   ],
   "source": [
    "heatmap(base2, Rowv = NA, Colv = NA)"
   ]
  },
  {
   "cell_type": "code",
   "execution_count": null,
   "id": "partial-atlantic",
   "metadata": {},
   "outputs": [],
   "source": []
  }
 ],
 "metadata": {
  "kernelspec": {
   "display_name": "R",
   "language": "R",
   "name": "ir"
  },
  "language_info": {
   "codemirror_mode": "r",
   "file_extension": ".r",
   "mimetype": "text/x-r-source",
   "name": "R",
   "pygments_lexer": "r",
   "version": "4.2.1"
  }
 },
 "nbformat": 4,
 "nbformat_minor": 5
}
