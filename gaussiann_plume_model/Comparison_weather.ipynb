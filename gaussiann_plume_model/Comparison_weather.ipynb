{
 "cells": [
  {
   "cell_type": "code",
   "execution_count": 1,
   "id": "smaller-separation",
   "metadata": {},
   "outputs": [
    {
     "name": "stderr",
     "output_type": "stream",
     "text": [
      "Warning message:\n",
      "\"pakiet 'ggplot2' został zbudowany w wersji R 4.2.2\"\n",
      "Warning message:\n",
      "\"pakiet 'dplyr' został zbudowany w wersji R 4.2.2\"\n",
      "\n",
      "Dołączanie pakietu: 'dplyr'\n",
      "\n",
      "\n",
      "Następujące obiekty zostały zakryte z 'package:stats':\n",
      "\n",
      "    filter, lag\n",
      "\n",
      "\n",
      "Następujące obiekty zostały zakryte z 'package:base':\n",
      "\n",
      "    intersect, setdiff, setequal, union\n",
      "\n",
      "\n",
      "Warning message:\n",
      "\"pakiet 'plot3D' został zbudowany w wersji R 4.2.2\"\n"
     ]
    }
   ],
   "source": [
    "library(ggplot2)\n",
    "library(dplyr)\n",
    "library(plot3D)\n",
    "library(pracma)"
   ]
  },
  {
   "cell_type": "code",
   "execution_count": 2,
   "id": "waiting-medicine",
   "metadata": {},
   "outputs": [],
   "source": [
    "data_wind <- read.csv('wind_clouds.csv')\n",
    "colnames(data_wind) <- c('time','clouds','sun', 'speed', 'direction')"
   ]
  },
  {
   "cell_type": "code",
   "execution_count": 3,
   "id": "final-copper",
   "metadata": {},
   "outputs": [],
   "source": [
    "find_category <- function(speed, sun, clouds){\n",
    "    if(speed<2){\n",
    "        if(sun>=280) p<-'A'\n",
    "        else if(sun>=120) p<-'B'\n",
    "        else if(clouds>=50) p<-'E'\n",
    "        else p<-'F'\n",
    "    }\n",
    "    else if(speed<3){\n",
    "        if(sun>=479) p<-'A'\n",
    "        else if(sun>=280) p<-'B'\n",
    "        else if(sun>=120) p<-'C'\n",
    "        else if(clouds>=50) p<-'E'\n",
    "        else p<-'F'\n",
    "    }\n",
    "    else if(speed<5){\n",
    "        if(sun>=280) p<-'B'\n",
    "        else if(sun>=120) p<-'C'\n",
    "        else if(clouds>=50) p<-'D'\n",
    "        else p<-'E'\n",
    "    }\n",
    "    else if(speed<6){\n",
    "        if(sun>=280) p<-'C'\n",
    "        else p<-'D'\n",
    "    }\n",
    "    else{\n",
    "        if(sun>=479) p<-'C'\n",
    "        else p<-'D'\n",
    "    }\n",
    "    return(p)\n",
    "}"
   ]
  },
  {
   "cell_type": "code",
   "execution_count": 4,
   "id": "acoustic-benchmark",
   "metadata": {},
   "outputs": [],
   "source": [
    "find_p <- function(category){\n",
    "    if(category=='A'|category=='B') p <- .15\n",
    "    else if(category=='C') p <- .2\n",
    "    else if(category=='D') p <- .25\n",
    "    else p <- .3\n",
    "    return(p)\n",
    "}"
   ]
  },
  {
   "cell_type": "code",
   "execution_count": 5,
   "id": "advised-season",
   "metadata": {},
   "outputs": [],
   "source": [
    "find_a_b <- function(x,category){\n",
    "    if(category=='A'){\n",
    "        if(x<.1) pars <- c(122.800,0.94470)\n",
    "        else if(x<.15) pars <- c(158.080,1.05420)\n",
    "        else if(x<.2) pars <- c(170.220,1.09320)\n",
    "        else if(x<.25) pars <- c(179.520,1.12620)\n",
    "        else if(x<.3) pars <- c(217.410,1.26440)\n",
    "        else if(x<.4) pars <- c(258.890,1.40940)\n",
    "        else if(x<.5) pars <- c(346.750,1.72830)\n",
    "        else if(x<=3.11) pars <- c(453.850,2.11660)\n",
    "        else pars <- c(5000,1)\n",
    "    }\n",
    "    else if(category=='B'){\n",
    "        if(x<.2) pars <- c(90.673,0.93198)\n",
    "        else if(x<.4) pars <- c(98.483,0.98332)\n",
    "        else pars <- c(109.300,1.09710)\n",
    "    }\n",
    "    else if(category=='C') pars <- c(61.141,0.91465)\n",
    "    else if(category=='D'){\n",
    "        if(x<.3) pars <- c(34.459,0.86974)\n",
    "        else if(x<1) pars <- c(32.093,0.81066)\n",
    "        else if(x<3) pars <- c(32.093,0.64403)\n",
    "        else if(x<10) pars <- c(33.504,0.60486)\n",
    "        else if(x<30) pars <- c(36.650,0.56589)\n",
    "        else pars <- c(44.053,0.51179)\n",
    "    }\n",
    "    else if(category=='E'){\n",
    "        if(x<.1) pars <- c(24.260,0.83660)\n",
    "        else if(x<.3) pars <- c(23.331,0.81956)\n",
    "        else if(x<1) pars <- c(21.628,0.75660)\n",
    "        else if(x<2) pars <- c(21.628,0.63077)\n",
    "        else if(x<4) pars <- c(22.534,0.57154)\n",
    "        else if(x<10) pars <- c(24.703,0.50527)\n",
    "        else if(x<20) pars <- c(26.970,0.46713)\n",
    "        else if(x<40) pars <- c(35.420,0.37615)\n",
    "        else pars <- c(47.618,0.29592)\n",
    "    }\n",
    "    else{\n",
    "        if(x<.2) pars <- c(15.209,0.81558)\n",
    "        else if(x<.7) pars <- c(14.457,0.78407)\n",
    "        else if(x<1) pars <- c(13.953,0.68465)\n",
    "        else if(x<2) pars <- c(13.953,0.63227)\n",
    "        else if(x<3) pars <- c(14.823,0.54503)\n",
    "        else if(x<7) pars <- c(16.187,0.46490)\n",
    "        else if(x<15) pars <- c(17.836,0.41507)\n",
    "        else if(x<30) pars <- c(22.651,0.32681)\n",
    "        else if(x<60) pars <- c(27.074,0.27436)\n",
    "        else pars <- c(34.219,0.21716)\n",
    "    }\n",
    "    return(pars)\n",
    "}"
   ]
  },
  {
   "cell_type": "code",
   "execution_count": 6,
   "id": "pending-sound",
   "metadata": {},
   "outputs": [],
   "source": [
    "find_theta <- function(x,category){\n",
    "    if(category=='A') pars <- c(24.1670,2.5334)\n",
    "    else if(category=='B') pars <- c(18.3330,1.8096)\n",
    "    else if(category=='C') pars <- c(12.5000,1.0857)\n",
    "    else if(category=='D') pars <- c(8.3330,0.72382)\n",
    "    else if(category=='E') pars <- c(6.2500,0.54287)\n",
    "    else pars <- c(4.1667,0.36191)\n",
    "    theta <- .017453293*(pars[1]-pars[2]*log(x))\n",
    "    return(theta)\n",
    "}"
   ]
  },
  {
   "cell_type": "code",
   "execution_count": 7,
   "id": "sudden-guess",
   "metadata": {},
   "outputs": [],
   "source": [
    "get_concentration <- function(Q,u,h,dy,dz,y,z){\n",
    "    result = Q/(2*pi*u*dy*dz)*(exp(-(z-h)^2/(2*dz^2))+exp(-(z-h)^2/(2*dz^2)))*exp(-y^2/(2*dy^2))\n",
    "    return(result)\n",
    "}"
   ]
  },
  {
   "cell_type": "code",
   "execution_count": 8,
   "id": "agreed-inventory",
   "metadata": {},
   "outputs": [],
   "source": [
    "gaussian_plume_xyh <- function(row,y,z, h=10, x_vec=seq(.1,10,.01), Q=0.01){\n",
    "    category <- find_category(row$speed,row$sun,row$clouds)\n",
    "    p <- find_p(category)\n",
    "    cs <- c()\n",
    "    for(x in x_vec){\n",
    "        if(x<=0){\n",
    "            cs <- c(cs,0)\n",
    "            next\n",
    "        }\n",
    "        a_b <- find_a_b(x,category)\n",
    "        theta <- find_theta(x,category)\n",
    "        u <- row$speed*(h/10)^p\n",
    "        a <- a_b[1]\n",
    "        b <- a_b[2]\n",
    "        dz <- a*x**b\n",
    "        if(dz>5000) dz<-5000\n",
    "        dy <- 465.11628*x*tan(theta)\n",
    "        c1 <- get_concentration(Q,u,h,dy,dz,y,z)\n",
    "        cs <- c(cs,c1)\n",
    "    }\n",
    "    return(cs)\n",
    "}"
   ]
  },
  {
   "cell_type": "code",
   "execution_count": 9,
   "id": "terminal-chess",
   "metadata": {},
   "outputs": [],
   "source": [
    "pollution_average2 <- function(en,r,c){\n",
    "    new_matrix <- matrix(data=0, nrow=r, ncol=c)\n",
    "    new_matrix[1,1] = mean(c(en[1,1],en[2,1],en[1,2],0,0))\n",
    "    new_matrix[1,c] = mean(c(en[1,c],en[2,c],en[1,(c-1)],0,0))\n",
    "    new_matrix[r,1] = mean(c(en[r,1],en[(r-1),1],en[r,2],0,0))\n",
    "    new_matrix[r,c] = mean(c(en[r,c],en[(r-1),c],en[r,(c-1)],0,0))\n",
    "    for(i in 2:(r-1)) new_matrix[i,1] = mean(c(en[i,1],en[i-1,1],en[i+1,1],en[i,2],0))\n",
    "    for(i in 2:(r-1)) new_matrix[i,c] = mean(c(en[i,c],en[i-1,c],en[i+1,c],en[i,(c-1)],0))\n",
    "    for(j in 2:(c-1)) new_matrix[1,j] = mean(c(en[1,j-1],en[1,j],en[1,j+1],en[2,c],0))\n",
    "    for(j in 2:(c-1)) new_matrix[r,j] = mean(c(en[r,j-1],en[r,j],en[r,j+1],en[(r-1),j],0))\n",
    "    for(i in 2:(r-1)){\n",
    "        for(j in 2:(c-1)) new_matrix[i,j] = mean(c(en[i,j],en[i-1,j],en[i+1,j],en[i,j-1],en[i,j+1]))\n",
    "    }\n",
    "    return(new_matrix)\n",
    "}"
   ]
  },
  {
   "cell_type": "code",
   "execution_count": 10,
   "id": "herbal-sphere",
   "metadata": {},
   "outputs": [],
   "source": [
    "gen_in_time <- function(t, sx=seq(0.01,1,0.01), sy=seq(-10,10,.01), z=2){\n",
    "    for(i in t){\n",
    "        y <- c()\n",
    "        cond <- c()\n",
    "        nx <- length(sx)\n",
    "        ny <- length(sy)\n",
    "        nt <- nx*ny\n",
    "        base <- data_wind[i,]\n",
    "        for(j in sy){\n",
    "            y <- c(y,rep(j,nx))\n",
    "            cond <- c(cond,gaussian_plume_xyh(base,j,z,h=10,x_vec=sx))\n",
    "        }\n",
    "        df <- data.frame(y,rep(sx,ny),cond)\n",
    "        colnames(df) <- c('y','x','cs')\n",
    "        write.csv(df,paste('./2D/surface',i, '.csv'))\n",
    "    }\n",
    "    return(NULL)\n",
    "}"
   ]
  },
  {
   "cell_type": "markdown",
   "id": "classical-battlefield",
   "metadata": {},
   "source": [
    "# Zanieczyszczenie w zależności od prędkości wiatru"
   ]
  },
  {
   "cell_type": "code",
   "execution_count": 14,
   "id": "metric-nurse",
   "metadata": {},
   "outputs": [],
   "source": [
    "check_speed <- data.frame(id=1:8,clouds=rep(20,8),sun=rep(100,8),speed=0:7, direction=rep(0,8))"
   ]
  },
  {
   "cell_type": "code",
   "execution_count": 68,
   "id": "choice-southeast",
   "metadata": {},
   "outputs": [],
   "source": [
    "sx <- seq(0.01,2.01,0.01)\n",
    "sy <- seq(-10,10,.01)\n",
    "nx <- length(sx)\n",
    "ny <- length(sy)\n",
    "for(j in c(1)){\n",
    "    y_s1 <- c()\n",
    "    cond_s1 <- c()\n",
    "    for(i in sy){\n",
    "        y_s1 <- c(y_s1,rep(i,nx))\n",
    "        cond_s1 <- c(cond_s1,gaussian_plume_xyh(check_speed[j,],i,1.7,h=10,x_vec=sx))\n",
    "    }\n",
    "    temp <- data.frame(y_s1,rep(sx,ny),cond_s1)\n",
    "    colnames(temp) <- c('y','x','cs')\n",
    "    write.csv(temp,paste('./speed/speed',j, '.csv'))\n",
    "}"
   ]
  },
  {
   "cell_type": "code",
   "execution_count": 69,
   "id": "assumed-extraction",
   "metadata": {},
   "outputs": [],
   "source": [
    "speed1 <- read.csv('./speed/speed 1 .csv')[,2:4]\n",
    "speed2 <- read.csv('./speed/speed 2 .csv')[,2:4]\n",
    "speed3 <- read.csv('./speed/speed 3 .csv')[,2:4]\n",
    "speed4 <- read.csv('./speed/speed 4 .csv')[,2:4]\n",
    "speed5 <- read.csv('./speed/speed 5 .csv')[,2:4]\n",
    "speed6 <- read.csv('./speed/speed 6 .csv')[,2:4]\n",
    "speed7 <- read.csv('./speed/speed 7 .csv')[,2:4]\n",
    "speed8 <- read.csv('./speed/speed 8 .csv')[,2:4]"
   ]
  },
  {
   "cell_type": "code",
   "execution_count": 71,
   "id": "inner-jaguar",
   "metadata": {},
   "outputs": [
    {
     "data": {
      "image/png": "[encoded data removed]",
      "text/plain": [
       "plot without title"
      ]
     },
     "metadata": {
      "image/png": {
       "height": 420,
       "width": 420
      }
     },
     "output_type": "display_data"
    }
   ],
   "source": [
    "ggplot(speed2, aes(x,y,z=cs*10^6))+geom_contour_filled(breaks=seq(0,20,2))"
   ]
  },
  {
   "cell_type": "code",
   "execution_count": 30,
   "id": "hearing-coating",
   "metadata": {},
   "outputs": [
    {
     "data": {
      "image/png": "[encoded data removed]",
      "text/plain": [
       "plot without title"
      ]
     },
     "metadata": {
      "image/png": {
       "height": 420,
       "width": 420
      }
     },
     "output_type": "display_data"
    }
   ],
   "source": [
    "ggplot(speed3, aes(x,y,z=cs*10^6))+geom_contour_filled(breaks=seq(0,20,2))"
   ]
  },
  {
   "cell_type": "code",
   "execution_count": 31,
   "id": "colonial-thickness",
   "metadata": {},
   "outputs": [
    {
     "data": {
      "image/png": "[encoded data removed]",
      "text/plain": [
       "plot without title"
      ]
     },
     "metadata": {
      "image/png": {
       "height": 420,
       "width": 420
      }
     },
     "output_type": "display_data"
    }
   ],
   "source": [
    "ggplot(speed4, aes(x,y,z=cs*10^6))+geom_contour_filled(breaks=seq(0,20,2))"
   ]
  },
  {
   "cell_type": "code",
   "execution_count": 33,
   "id": "independent-laugh",
   "metadata": {},
   "outputs": [
    {
     "data": {
      "image/png": "[encoded data removed]",
      "text/plain": [
       "plot without title"
      ]
     },
     "metadata": {
      "image/png": {
       "height": 420,
       "width": 420
      }
     },
     "output_type": "display_data"
    }
   ],
   "source": [
    "ggplot(speed5, aes(x,y,z=cs*10^6))+geom_contour_filled(breaks=seq(0,20,2))"
   ]
  },
  {
   "cell_type": "code",
   "execution_count": 34,
   "id": "enormous-identity",
   "metadata": {},
   "outputs": [
    {
     "data": {
      "image/png": "[encoded data removed]",
      "text/plain": [
       "plot without title"
      ]
     },
     "metadata": {
      "image/png": {
       "height": 420,
       "width": 420
      }
     },
     "output_type": "display_data"
    }
   ],
   "source": [
    "ggplot(speed6, aes(x,y,z=cs*10^6))+geom_contour_filled(breaks=seq(0,20,2))"
   ]
  },
  {
   "cell_type": "code",
   "execution_count": 36,
   "id": "coordinated-scratch",
   "metadata": {},
   "outputs": [
    {
     "data": {
      "image/png": "[encoded data removed]",
      "text/plain": [
       "plot without title"
      ]
     },
     "metadata": {
      "image/png": {
       "height": 420,
       "width": 420
      }
     },
     "output_type": "display_data"
    }
   ],
   "source": [
    "ggplot(speed7, aes(x,y,z=cs*10^6))+geom_contour_filled(breaks=seq(0,20,2))"
   ]
  },
  {
   "cell_type": "code",
   "execution_count": 39,
   "id": "qualified-maryland",
   "metadata": {},
   "outputs": [
    {
     "data": {
      "image/png": "[encoded data removed]",
      "text/plain": [
       "plot without title"
      ]
     },
     "metadata": {
      "image/png": {
       "height": 420,
       "width": 420
      }
     },
     "output_type": "display_data"
    }
   ],
   "source": [
    "ggplot(speed8, aes(x,y,z=cs*10^6))+geom_contour_filled(bins=10,binwidth = 2)"
   ]
  },
  {
   "cell_type": "code",
   "execution_count": 64,
   "id": "greenhouse-samuel",
   "metadata": {},
   "outputs": [],
   "source": [
    "css_speed <- data.frame(speed2$cs, speed3$cs, speed4$cs, speed5$cs, speed6$cs, speed7$cs, speed8$cs)\n",
    "css_speed_max <- sapply(css_speed*10^6, max)"
   ]
  },
  {
   "cell_type": "code",
   "execution_count": 77,
   "id": "talented-sarah",
   "metadata": {
    "scrolled": false
   },
   "outputs": [
    {
     "data": {
      "image/png": "[encoded data removed]",
      "text/plain": [
       "plot without title"
      ]
     },
     "metadata": {
      "image/png": {
       "height": 420,
       "width": 420
      }
     },
     "output_type": "display_data"
    }
   ],
   "source": [
    "ggplot(mapping=aes(1:7,css_speed_max))+geom_point()+geom_line()"
   ]
  },
  {
   "cell_type": "code",
   "execution_count": 74,
   "id": "purple-result",
   "metadata": {},
   "outputs": [],
   "source": [
    "check_speed2 <- data.frame(id=1:8,clouds=rep(20,8),sun=rep(400,8),speed=0:7, direction=rep(0,8))"
   ]
  },
  {
   "cell_type": "code",
   "execution_count": 76,
   "id": "unlimited-joshua",
   "metadata": {},
   "outputs": [],
   "source": [
    "sx <- seq(0.01,2.01,0.01)\n",
    "sy <- seq(-10,10,.01)\n",
    "nx <- length(sx)\n",
    "ny <- length(sy)\n",
    "for(j in 2:8){\n",
    "    y_s1 <- c()\n",
    "    cond_s1 <- c()\n",
    "    for(i in sy){\n",
    "        y_s1 <- c(y_s1,rep(i,nx))\n",
    "        cond_s1 <- c(cond_s1,gaussian_plume_xyh(check_speed2[j,],i,1.7,h=10,x_vec=sx))\n",
    "    }\n",
    "    temp <- data.frame(y_s1,rep(sx,ny),cond_s1)\n",
    "    colnames(temp) <- c('y','x','cs')\n",
    "    write.csv(temp,paste('./speed/speed2',j, '.csv'))\n",
    "}"
   ]
  },
  {
   "cell_type": "code",
   "execution_count": 78,
   "id": "macro-marking",
   "metadata": {},
   "outputs": [],
   "source": [
    "speed21 <- read.csv('./speed/speed2 1 .csv')[,2:4]\n",
    "speed22 <- read.csv('./speed/speed2 2 .csv')[,2:4]\n",
    "speed23 <- read.csv('./speed/speed2 3 .csv')[,2:4]\n",
    "speed24 <- read.csv('./speed/speed2 4 .csv')[,2:4]\n",
    "speed25 <- read.csv('./speed/speed2 5 .csv')[,2:4]\n",
    "speed26 <- read.csv('./speed/speed2 6 .csv')[,2:4]\n",
    "speed27 <- read.csv('./speed/speed2 7 .csv')[,2:4]\n",
    "speed28 <- read.csv('./speed/speed2 8 .csv')[,2:4]"
   ]
  },
  {
   "cell_type": "code",
   "execution_count": 79,
   "id": "romantic-campus",
   "metadata": {},
   "outputs": [],
   "source": [
    "css_speed2 <- data.frame(speed22$cs, speed23$cs, speed24$cs, speed25$cs, speed26$cs, speed27$cs, speed28$cs)\n",
    "css_speed2_max <- sapply(css_speed2*10^6, max)"
   ]
  },
  {
   "cell_type": "code",
   "execution_count": 81,
   "id": "superior-faith",
   "metadata": {},
   "outputs": [
    {
     "data": {
      "image/png": "[encoded data removed]",
      "text/plain": [
       "plot without title"
      ]
     },
     "metadata": {
      "image/png": {
       "height": 420,
       "width": 420
      }
     },
     "output_type": "display_data"
    }
   ],
   "source": [
    "ggplot(mapping=aes(1:7,css_speed2_max))+geom_point()+geom_line()+geom_point(aes(1:7,css_speed_max),col='hotpink')"
   ]
  },
  {
   "cell_type": "markdown",
   "id": "floral-ethics",
   "metadata": {},
   "source": [
    "# Zanieczyszczenie w zależności od zachmurzenia"
   ]
  },
  {
   "cell_type": "code",
   "execution_count": 42,
   "id": "irish-variable",
   "metadata": {},
   "outputs": [],
   "source": [
    "check_clouds <- data.frame(id=1:10,clouds=linspace(0,100,10),sun=rep(100,10),speed=rep(3,10), direction=rep(0,10))"
   ]
  },
  {
   "cell_type": "code",
   "execution_count": 41,
   "id": "german-release",
   "metadata": {},
   "outputs": [
    {
     "data": {
      "text/html": [
       "100"
      ],
      "text/latex": [
       "100"
      ],
      "text/markdown": [
       "100"
      ],
      "text/plain": [
       "[1] 100"
      ]
     },
     "metadata": {},
     "output_type": "display_data"
    }
   ],
   "source": [
    "max(data_wind[,'clouds'])"
   ]
  },
  {
   "cell_type": "code",
   "execution_count": 43,
   "id": "ethical-nature",
   "metadata": {},
   "outputs": [],
   "source": [
    "sx <- seq(0.01,2.01,0.01)\n",
    "sy <- seq(-10,10,.01)\n",
    "nx <- length(sx)\n",
    "ny <- length(sy)\n",
    "for(j in 1:10){\n",
    "    y_c1 <- c()\n",
    "    cond_c1 <- c()\n",
    "    for(i in sy){\n",
    "        y_c1 <- c(y_c1,rep(i,nx))\n",
    "        cond_c1 <- c(cond_c1,gaussian_plume_xyh(check_clouds[j,],i,1.7,h=10,x_vec=sx))\n",
    "    }\n",
    "    temp <- data.frame(y_c1,rep(sx,ny),cond_c1)\n",
    "    colnames(temp) <- c('y','x','cs')\n",
    "    write.csv(temp,paste('./clouds/clouds',j, '.csv'))\n",
    "}"
   ]
  },
  {
   "cell_type": "code",
   "execution_count": 50,
   "id": "specialized-williams",
   "metadata": {},
   "outputs": [],
   "source": [
    "clouds1 <- read.csv('./clouds/clouds 1 .csv')[,2:4]\n",
    "clouds2 <- read.csv('./clouds/clouds 2 .csv')[,2:4]\n",
    "clouds3 <- read.csv('./clouds/clouds 3 .csv')[,2:4]\n",
    "clouds4 <- read.csv('./clouds/clouds 4 .csv')[,2:4]\n",
    "clouds5 <- read.csv('./clouds/clouds 5 .csv')[,2:4]\n",
    "clouds6 <- read.csv('./clouds/clouds 6 .csv')[,2:4]\n",
    "clouds7 <- read.csv('./clouds/clouds 7 .csv')[,2:4]\n",
    "clouds8 <- read.csv('./clouds/clouds 8 .csv')[,2:4]\n",
    "clouds9 <- read.csv('./clouds/clouds 9 .csv')[,2:4]\n",
    "clouds10 <- read.csv('./clouds/clouds 10 .csv')[,2:4]"
   ]
  },
  {
   "cell_type": "code",
   "execution_count": 82,
   "id": "whole-newspaper",
   "metadata": {},
   "outputs": [],
   "source": [
    "css_clouds <- data.frame(clouds2$cs, clouds3$cs, clouds4$cs, clouds5$cs, clouds6$cs, clouds7$cs, clouds8$cs, clouds9$cs, clouds10$cs)\n",
    "css_clouds_max <- sapply(css_clouds*10^6, max)"
   ]
  },
  {
   "cell_type": "code",
   "execution_count": 84,
   "id": "incorporate-ireland",
   "metadata": {},
   "outputs": [
    {
     "data": {
      "image/png": "[encoded data removed]",
      "text/plain": [
       "plot without title"
      ]
     },
     "metadata": {
      "image/png": {
       "height": 420,
       "width": 420
      }
     },
     "output_type": "display_data"
    }
   ],
   "source": [
    "ggplot(mapping=aes(1:9,css_clouds_max))+geom_point()+geom_line()"
   ]
  },
  {
   "cell_type": "markdown",
   "id": "contemporary-ticket",
   "metadata": {},
   "source": [
    "# Zanieczyszczenie w zależności od wysokości słońca/nasłonecznienia"
   ]
  },
  {
   "cell_type": "code",
   "execution_count": 46,
   "id": "spatial-limit",
   "metadata": {},
   "outputs": [],
   "source": [
    "check_sun <- data.frame(id=1:15,clouds=rep(20,15),sun=linspace(0,719,15),speed=rep(3,15), direction=rep(0,15))"
   ]
  },
  {
   "cell_type": "code",
   "execution_count": 44,
   "id": "original-scoop",
   "metadata": {},
   "outputs": [
    {
     "data": {
      "text/html": [
       "719"
      ],
      "text/latex": [
       "719"
      ],
      "text/markdown": [
       "719"
      ],
      "text/plain": [
       "[1] 719"
      ]
     },
     "metadata": {},
     "output_type": "display_data"
    }
   ],
   "source": [
    "max(data_wind[,'sun'])"
   ]
  },
  {
   "cell_type": "code",
   "execution_count": 47,
   "id": "olympic-score",
   "metadata": {},
   "outputs": [],
   "source": [
    "sx <- seq(0.01,2.01,0.01)\n",
    "sy <- seq(-10,10,.01)\n",
    "nx <- length(sx)\n",
    "ny <- length(sy)\n",
    "for(j in 1:15){\n",
    "    y_sun1 <- c()\n",
    "    cond_sun1 <- c()\n",
    "    for(i in sy){\n",
    "        y_sun1 <- c(y_sun1,rep(i,nx))\n",
    "        cond_sun1 <- c(cond_sun1,gaussian_plume_xyh(check_sun[j,],i,1.7,h=10,x_vec=sx))\n",
    "    }\n",
    "    temp <- data.frame(y_sun1,rep(sx,ny),cond_sun1)\n",
    "    colnames(temp) <- c('y','x','cs')\n",
    "    write.csv(temp,paste('./sun/sun',j, '.csv'))\n",
    "}"
   ]
  },
  {
   "cell_type": "code",
   "execution_count": 48,
   "id": "enabling-supplier",
   "metadata": {},
   "outputs": [],
   "source": [
    "sun1 <- read.csv('./sun/sun 1 .csv')[,2:4]\n",
    "sun2 <- read.csv('./sun/sun 2 .csv')[,2:4]\n",
    "sun3 <- read.csv('./sun/sun 3 .csv')[,2:4]\n",
    "sun4 <- read.csv('./sun/sun 4 .csv')[,2:4]\n",
    "sun5 <- read.csv('./sun/sun 5 .csv')[,2:4]\n",
    "sun6 <- read.csv('./sun/sun 6 .csv')[,2:4]\n",
    "sun7 <- read.csv('./sun/sun 7 .csv')[,2:4]\n",
    "sun8 <- read.csv('./sun/sun 8 .csv')[,2:4]\n",
    "sun9 <- read.csv('./sun/sun 9 .csv')[,2:4]\n",
    "sun10 <- read.csv('./sun/sun 10 .csv')[,2:4]\n",
    "sun11 <- read.csv('./sun/sun 11 .csv')[,2:4]\n",
    "sun12 <- read.csv('./sun/sun 12 .csv')[,2:4]\n",
    "sun13 <- read.csv('./sun/sun 13 .csv')[,2:4]\n",
    "sun14 <- read.csv('./sun/sun 14 .csv')[,2:4]\n",
    "sun15 <- read.csv('./sun/sun 15 .csv')[,2:4]"
   ]
  },
  {
   "cell_type": "code",
   "execution_count": null,
   "id": "sharing-jesus",
   "metadata": {},
   "outputs": [],
   "source": []
  }
 ],
 "metadata": {
  "kernelspec": {
   "display_name": "R",
   "language": "R",
   "name": "ir"
  },
  "language_info": {
   "codemirror_mode": "r",
   "file_extension": ".r",
   "mimetype": "text/x-r-source",
   "name": "R",
   "pygments_lexer": "r",
   "version": "4.2.1"
  }
 },
 "nbformat": 4,
 "nbformat_minor": 5
}
