{
 "cells": [
  {
   "cell_type": "code",
   "execution_count": 135,
   "id": "beneficial-north",
   "metadata": {},
   "outputs": [
    {
     "name": "stderr",
     "output_type": "stream",
     "text": [
      "Warning message:\n",
      "\"pakiet 'latex2exp' został zbudowany w wersji R 4.2.2\"\n"
     ]
    }
   ],
   "source": [
    "library(ggplot2)\n",
    "library(dplyr)\n",
    "library(plot3D)\n",
    "library(pracma)\n",
    "library(latex2exp)"
   ]
  },
  {
   "cell_type": "markdown",
   "id": "disciplinary-union",
   "metadata": {},
   "source": [
    "# Zmiany pogody uwzględnione w modelu"
   ]
  },
  {
   "cell_type": "code",
   "execution_count": 2,
   "id": "adjustable-presence",
   "metadata": {},
   "outputs": [],
   "source": [
    "data_wind <- read.csv('wind_clouds.csv')\n",
    "colnames(data_wind) <- c('time','clouds','sun', 'speed', 'direction')"
   ]
  },
  {
   "cell_type": "markdown",
   "id": "published-correspondence",
   "metadata": {},
   "source": [
    "## Funkcje generujące koncentrację zanieczyszczeń"
   ]
  },
  {
   "cell_type": "code",
   "execution_count": 3,
   "id": "purple-invention",
   "metadata": {},
   "outputs": [],
   "source": [
    "find_category <- function(speed, sun, clouds){\n",
    "    if(speed<2){\n",
    "        if(sun>=280) p<-'A'\n",
    "        else if(sun>=120) p<-'B'\n",
    "        else if(clouds>=50) p<-'E'\n",
    "        else p<-'F'\n",
    "    }\n",
    "    else if(speed<3){\n",
    "        if(sun>=479) p<-'A'\n",
    "        else if(sun>=280) p<-'B'\n",
    "        else if(sun>=120) p<-'C'\n",
    "        else if(clouds>=50) p<-'E'\n",
    "        else p<-'F'\n",
    "    }\n",
    "    else if(speed<5){\n",
    "        if(sun>=280) p<-'B'\n",
    "        else if(sun>=120) p<-'C'\n",
    "        else if(clouds>=50) p<-'D'\n",
    "        else p<-'E'\n",
    "    }\n",
    "    else if(speed<6){\n",
    "        if(sun>=280) p<-'C'\n",
    "        else p<-'D'\n",
    "    }\n",
    "    else{\n",
    "        if(sun>=479) p<-'C'\n",
    "        else p<-'D'\n",
    "    }\n",
    "    return(p)\n",
    "}"
   ]
  },
  {
   "cell_type": "code",
   "execution_count": 4,
   "id": "equipped-security",
   "metadata": {},
   "outputs": [],
   "source": [
    "find_p <- function(category){\n",
    "    if(category=='A'|category=='B') p <- .15\n",
    "    else if(category=='C') p <- .2\n",
    "    else if(category=='D') p <- .25\n",
    "    else p <- .3\n",
    "    return(p)\n",
    "}"
   ]
  },
  {
   "cell_type": "code",
   "execution_count": 5,
   "id": "previous-talent",
   "metadata": {},
   "outputs": [],
   "source": [
    "find_a_b <- function(x,category){\n",
    "    if(category=='A'){\n",
    "        if(x<.1) pars <- c(122.800,0.94470)\n",
    "        else if(x<.15) pars <- c(158.080,1.05420)\n",
    "        else if(x<.2) pars <- c(170.220,1.09320)\n",
    "        else if(x<.25) pars <- c(179.520,1.12620)\n",
    "        else if(x<.3) pars <- c(217.410,1.26440)\n",
    "        else if(x<.4) pars <- c(258.890,1.40940)\n",
    "        else if(x<.5) pars <- c(346.750,1.72830)\n",
    "        else if(x<=3.11) pars <- c(453.850,2.11660)\n",
    "        else pars <- c(5000,1)\n",
    "    }\n",
    "    else if(category=='B'){\n",
    "        if(x<.2) pars <- c(90.673,0.93198)\n",
    "        else if(x<.4) pars <- c(98.483,0.98332)\n",
    "        else pars <- c(109.300,1.09710)\n",
    "    }\n",
    "    else if(category=='C') pars <- c(61.141,0.91465)\n",
    "    else if(category=='D'){\n",
    "        if(x<.3) pars <- c(34.459,0.86974)\n",
    "        else if(x<1) pars <- c(32.093,0.81066)\n",
    "        else if(x<3) pars <- c(32.093,0.64403)\n",
    "        else if(x<10) pars <- c(33.504,0.60486)\n",
    "        else if(x<30) pars <- c(36.650,0.56589)\n",
    "        else pars <- c(44.053,0.51179)\n",
    "    }\n",
    "    else if(category=='E'){\n",
    "        if(x<.1) pars <- c(24.260,0.83660)\n",
    "        else if(x<.3) pars <- c(23.331,0.81956)\n",
    "        else if(x<1) pars <- c(21.628,0.75660)\n",
    "        else if(x<2) pars <- c(21.628,0.63077)\n",
    "        else if(x<4) pars <- c(22.534,0.57154)\n",
    "        else if(x<10) pars <- c(24.703,0.50527)\n",
    "        else if(x<20) pars <- c(26.970,0.46713)\n",
    "        else if(x<40) pars <- c(35.420,0.37615)\n",
    "        else pars <- c(47.618,0.29592)\n",
    "    }\n",
    "    else{\n",
    "        if(x<.2) pars <- c(15.209,0.81558)\n",
    "        else if(x<.7) pars <- c(14.457,0.78407)\n",
    "        else if(x<1) pars <- c(13.953,0.68465)\n",
    "        else if(x<2) pars <- c(13.953,0.63227)\n",
    "        else if(x<3) pars <- c(14.823,0.54503)\n",
    "        else if(x<7) pars <- c(16.187,0.46490)\n",
    "        else if(x<15) pars <- c(17.836,0.41507)\n",
    "        else if(x<30) pars <- c(22.651,0.32681)\n",
    "        else if(x<60) pars <- c(27.074,0.27436)\n",
    "        else pars <- c(34.219,0.21716)\n",
    "    }\n",
    "    return(pars)\n",
    "}"
   ]
  },
  {
   "cell_type": "code",
   "execution_count": 6,
   "id": "alike-praise",
   "metadata": {},
   "outputs": [],
   "source": [
    "find_theta <- function(x,category){\n",
    "    if(category=='A') pars <- c(24.1670,2.5334)\n",
    "    else if(category=='B') pars <- c(18.3330,1.8096)\n",
    "    else if(category=='C') pars <- c(12.5000,1.0857)\n",
    "    else if(category=='D') pars <- c(8.3330,0.72382)\n",
    "    else if(category=='E') pars <- c(6.2500,0.54287)\n",
    "    else pars <- c(4.1667,0.36191)\n",
    "    theta <- .017453293*(pars[1]-pars[2]*log(x))\n",
    "    return(theta)\n",
    "}"
   ]
  },
  {
   "cell_type": "code",
   "execution_count": 7,
   "id": "entitled-produce",
   "metadata": {},
   "outputs": [],
   "source": [
    "get_concentration <- function(Q,u,h,dy,dz,y,z){\n",
    "    result = Q/(2*pi*u*dy*dz)*(exp(-(z-h)^2/(2*dz^2))+exp(-(z-h)^2/(2*dz^2)))*exp(-y^2/(2*dy^2))\n",
    "    return(result)\n",
    "}"
   ]
  },
  {
   "cell_type": "code",
   "execution_count": 8,
   "id": "bored-database",
   "metadata": {},
   "outputs": [],
   "source": [
    "gaussian_plume_xyh <- function(row,y,z, h=10, x_vec=seq(.1,10,.01), Q=0.01){\n",
    "    category <- find_category(row$speed,row$sun,row$clouds)\n",
    "    p <- find_p(category)\n",
    "    cs <- c()\n",
    "    for(x in x_vec){\n",
    "        if(x<=0){\n",
    "            cs <- c(cs,0)\n",
    "            next\n",
    "        }\n",
    "        a_b <- find_a_b(x,category)\n",
    "        theta <- find_theta(x,category)\n",
    "        u <- row$speed*(h/10)^p\n",
    "        a <- a_b[1]\n",
    "        b <- a_b[2]\n",
    "        dz <- a*x**b\n",
    "        if(dz>5000) dz<-5000\n",
    "        dy <- 465.11628*x*tan(theta)\n",
    "        c1 <- get_concentration(Q,u,h,dy,dz,y,z)\n",
    "        cs <- c(cs,c1)\n",
    "    }\n",
    "    return(cs)\n",
    "}"
   ]
  },
  {
   "cell_type": "code",
   "execution_count": 9,
   "id": "functioning-carbon",
   "metadata": {},
   "outputs": [],
   "source": [
    "pollution_average2 <- function(en,r,c){\n",
    "    new_matrix <- matrix(data=0, nrow=r, ncol=c)\n",
    "    new_matrix[1,1] = mean(c(en[1,1],en[2,1],en[1,2],0,0))\n",
    "    new_matrix[1,c] = mean(c(en[1,c],en[2,c],en[1,(c-1)],0,0))\n",
    "    new_matrix[r,1] = mean(c(en[r,1],en[(r-1),1],en[r,2],0,0))\n",
    "    new_matrix[r,c] = mean(c(en[r,c],en[(r-1),c],en[r,(c-1)],0,0))\n",
    "    for(i in 2:(r-1)) new_matrix[i,1] = mean(c(en[i,1],en[i-1,1],en[i+1,1],en[i,2],0))\n",
    "    for(i in 2:(r-1)) new_matrix[i,c] = mean(c(en[i,c],en[i-1,c],en[i+1,c],en[i,(c-1)],0))\n",
    "    for(j in 2:(c-1)) new_matrix[1,j] = mean(c(en[1,j-1],en[1,j],en[1,j+1],en[2,c],0))\n",
    "    for(j in 2:(c-1)) new_matrix[r,j] = mean(c(en[r,j-1],en[r,j],en[r,j+1],en[(r-1),j],0))\n",
    "    for(i in 2:(r-1)){\n",
    "        for(j in 2:(c-1)) new_matrix[i,j] = mean(c(en[i,j],en[i-1,j],en[i+1,j],en[i,j-1],en[i,j+1]))\n",
    "    }\n",
    "    return(new_matrix)\n",
    "}"
   ]
  },
  {
   "cell_type": "markdown",
   "id": "subject-twenty",
   "metadata": {},
   "source": [
    "## Funkcja generująca pliki z odpowiednimi powierzchniami"
   ]
  },
  {
   "cell_type": "code",
   "execution_count": 10,
   "id": "forty-guyana",
   "metadata": {},
   "outputs": [],
   "source": [
    "gen_in_time <- function(t, sx=seq(0.01,1,0.01), sy=seq(-10,10,.01), z=2){\n",
    "    for(i in t){\n",
    "        y <- c()\n",
    "        cond <- c()\n",
    "        nx <- length(sx)\n",
    "        ny <- length(sy)\n",
    "        nt <- nx*ny\n",
    "        base <- data_wind[i,]\n",
    "        for(j in sy){\n",
    "            y <- c(y,rep(j,nx))\n",
    "            cond <- c(cond,gaussian_plume_xyh(base,j,z,h=10,x_vec=sx))\n",
    "        }\n",
    "        df <- data.frame(y,rep(sx,ny),cond)\n",
    "        colnames(df) <- c('y','x','cs')\n",
    "        write.csv(df,paste('./2D/surface',i, '.csv'))\n",
    "    }\n",
    "    return(NULL)\n",
    "}"
   ]
  },
  {
   "cell_type": "markdown",
   "id": "biological-classic",
   "metadata": {},
   "source": [
    "# Zanieczyszczenie w zależności od prędkości wiatru"
   ]
  },
  {
   "cell_type": "markdown",
   "id": "affiliated-longer",
   "metadata": {},
   "source": [
    "### prędkość wiatru: $\\left[0,7\\right]\\frac{m}{s}$, zachmurzenie: $20\\%$, nasłonecznienie: $100\\frac{W}{m^2}$\n",
    "\n",
    "### $x\\in\\left[0.01,2.01\\right]km,\\,\\,y\\in\\left[-10,10\\right]m,\\,\\,z=1.7m,\\,\\, h=10m$"
   ]
  },
  {
   "cell_type": "code",
   "execution_count": 14,
   "id": "qualified-designation",
   "metadata": {},
   "outputs": [],
   "source": [
    "check_speed <- data.frame(id=1:8,clouds=rep(20,8),sun=rep(100,8),speed=0:7, direction=rep(0,8))"
   ]
  },
  {
   "cell_type": "code",
   "execution_count": 68,
   "id": "vulnerable-accountability",
   "metadata": {},
   "outputs": [],
   "source": [
    "sx <- seq(0.01,2.01,0.01)\n",
    "sy <- seq(-10,10,.01)\n",
    "nx <- length(sx)\n",
    "ny <- length(sy)\n",
    "for(j in 1:8){\n",
    "    y_s1 <- c()\n",
    "    cond_s1 <- c()\n",
    "    for(i in sy){\n",
    "        y_s1 <- c(y_s1,rep(i,nx))\n",
    "        cond_s1 <- c(cond_s1,gaussian_plume_xyh(check_speed[j,],i,1.7,h=10,x_vec=sx))\n",
    "    }\n",
    "    temp <- data.frame(y_s1,rep(sx,ny),cond_s1)\n",
    "    colnames(temp) <- c('y','x','cs')\n",
    "    write.csv(temp,paste('./speed/speed',j, '.csv'))\n",
    "}"
   ]
  },
  {
   "cell_type": "code",
   "execution_count": 122,
   "id": "ongoing-germany",
   "metadata": {},
   "outputs": [],
   "source": [
    "speed2 <- read.csv('./speed/speed 2 .csv')[,2:4]\n",
    "speed3 <- read.csv('./speed/speed 3 .csv')[,2:4]\n",
    "speed4 <- read.csv('./speed/speed 4 .csv')[,2:4]\n",
    "speed5 <- read.csv('./speed/speed 5 .csv')[,2:4]\n",
    "speed6 <- read.csv('./speed/speed 6 .csv')[,2:4]\n",
    "speed7 <- read.csv('./speed/speed 7 .csv')[,2:4]\n",
    "speed8 <- read.csv('./speed/speed 8 .csv')[,2:4]"
   ]
  },
  {
   "cell_type": "code",
   "execution_count": 137,
   "id": "different-renewal",
   "metadata": {},
   "outputs": [
    {
     "name": "stderr",
     "output_type": "stream",
     "text": [
      "\u001b[1m\u001b[22mSaving 10 x 6.67 in image\n"
     ]
    },
    {
     "data": {
      "image/png": "[encoded data removed]",
      "text/plain": [
       "plot without title"
      ]
     },
     "metadata": {
      "image/png": {
       "height": 420,
       "width": 420
      }
     },
     "output_type": "display_data"
    }
   ],
   "source": [
    "speed2_plot <- ggplot(speed2, aes(x,y,z=cs*10^6))+geom_contour_filled(breaks=seq(0,18,2))+\n",
    "    scale_fill_viridis_d(drop = FALSE)+\n",
    "    guides(fill=guide_legend(title=TeX(\"Concentration $\\\\left[\\\\frac{\\\\mu g}{m^3}\\\\right]$\")))\n",
    "speed2_plot\n",
    "#ggsave('./plots/speed/speed2_plot.jpg', speed2_plot, 'jpg', width=10)"
   ]
  },
  {
   "cell_type": "code",
   "execution_count": 138,
   "id": "hidden-garage",
   "metadata": {},
   "outputs": [
    {
     "name": "stderr",
     "output_type": "stream",
     "text": [
      "\u001b[1m\u001b[22mSaving 10 x 6.67 in image\n"
     ]
    },
    {
     "data": {
      "image/png": "[encoded data removed]",
      "text/plain": [
       "plot without title"
      ]
     },
     "metadata": {
      "image/png": {
       "height": 420,
       "width": 420
      }
     },
     "output_type": "display_data"
    }
   ],
   "source": [
    "speed3_plot <- ggplot(speed3, aes(x,y,z=cs*10^6))+geom_contour_filled(breaks=seq(0,18,2))+ \n",
    "    scale_fill_viridis_d(drop = FALSE)+\n",
    "    guides(fill=guide_legend(title=TeX(\"Concentration $\\\\left[\\\\frac{\\\\mu g}{m^3}\\\\right]$\")))\n",
    "speed3_plot\n",
    "#ggsave('./plots/speed/speed3_plot.jpg', speed3_plot, 'jpg', width=10)"
   ]
  },
  {
   "cell_type": "code",
   "execution_count": 139,
   "id": "concrete-conclusion",
   "metadata": {},
   "outputs": [
    {
     "name": "stderr",
     "output_type": "stream",
     "text": [
      "\u001b[1m\u001b[22mSaving 10 x 6.67 in image\n"
     ]
    },
    {
     "data": {
      "image/png": "[encoded data removed]",
      "text/plain": [
       "plot without title"
      ]
     },
     "metadata": {
      "image/png": {
       "height": 420,
       "width": 420
      }
     },
     "output_type": "display_data"
    }
   ],
   "source": [
    "speed4_plot <- ggplot(speed4, aes(x,y,z=cs*10^6))+geom_contour_filled(breaks=seq(0,18,2))+ \n",
    "    scale_fill_viridis_d(drop = FALSE)+\n",
    "    guides(fill=guide_legend(title=TeX(\"Concentration $\\\\left[\\\\frac{\\\\mu g}{m^3}\\\\right]$\")))\n",
    "speed4_plot\n",
    "#ggsave('./plots/speed/speed4_plot.jpg', speed4_plot, 'jpg', width=10)"
   ]
  },
  {
   "cell_type": "code",
   "execution_count": 141,
   "id": "grave-merchant",
   "metadata": {},
   "outputs": [
    {
     "name": "stderr",
     "output_type": "stream",
     "text": [
      "\u001b[1m\u001b[22mSaving 10 x 6.67 in image\n"
     ]
    },
    {
     "data": {
      "image/png": "[encoded data removed]",
      "text/plain": [
       "plot without title"
      ]
     },
     "metadata": {
      "image/png": {
       "height": 420,
       "width": 420
      }
     },
     "output_type": "display_data"
    }
   ],
   "source": [
    "speed5_plot <- ggplot(speed5, aes(x,y,z=cs*10^6))+geom_contour_filled(breaks=seq(0,18,2))+ \n",
    "    scale_fill_viridis_d(drop = FALSE)+\n",
    "    guides(fill=guide_legend(title=TeX(\"Concentration $\\\\left[\\\\frac{\\\\mu g}{m^3}\\\\right]$\")))\n",
    "speed5_plot\n",
    "#ggsave('./plots/speed/speed5_plot.jpg', speed5_plot, 'jpg', width=10)"
   ]
  },
  {
   "cell_type": "code",
   "execution_count": 142,
   "id": "affected-reading",
   "metadata": {},
   "outputs": [
    {
     "name": "stderr",
     "output_type": "stream",
     "text": [
      "\u001b[1m\u001b[22mSaving 10 x 6.67 in image\n"
     ]
    },
    {
     "data": {
      "image/png": "[encoded data removed]",
      "text/plain": [
       "plot without title"
      ]
     },
     "metadata": {
      "image/png": {
       "height": 420,
       "width": 420
      }
     },
     "output_type": "display_data"
    }
   ],
   "source": [
    "speed6_plot <- ggplot(speed6, aes(x,y,z=cs*10^6))+geom_contour_filled(breaks=seq(0,18,2))+ \n",
    "    scale_fill_viridis_d(drop = FALSE)+\n",
    "    guides(fill=guide_legend(title=TeX(\"Concentration $\\\\left[\\\\frac{\\\\mu g}{m^3}\\\\right]$\")))\n",
    "speed6_plot\n",
    "#ggsave('./plots/speed/speed6_plot.jpg', speed6_plot, 'jpg', width=10)"
   ]
  },
  {
   "cell_type": "code",
   "execution_count": 143,
   "id": "viral-screening",
   "metadata": {},
   "outputs": [
    {
     "name": "stderr",
     "output_type": "stream",
     "text": [
      "\u001b[1m\u001b[22mSaving 10 x 6.67 in image\n"
     ]
    },
    {
     "data": {
      "image/png": "[encoded data removed]",
      "text/plain": [
       "plot without title"
      ]
     },
     "metadata": {
      "image/png": {
       "height": 420,
       "width": 420
      }
     },
     "output_type": "display_data"
    }
   ],
   "source": [
    "speed7_plot <- ggplot(speed7, aes(x,y,z=cs*10^6))+geom_contour_filled(breaks=seq(0,18,2))+ \n",
    "    scale_fill_viridis_d(drop = FALSE)+\n",
    "    guides(fill=guide_legend(title=TeX(\"Concentration $\\\\left[\\\\frac{\\\\mu g}{m^3}\\\\right]$\")))\n",
    "speed7_plot\n",
    "#ggsave('./plots/speed/speed7_plot.jpg', speed7_plot, 'jpg', width=10)"
   ]
  },
  {
   "cell_type": "code",
   "execution_count": 144,
   "id": "productive-caution",
   "metadata": {},
   "outputs": [
    {
     "name": "stderr",
     "output_type": "stream",
     "text": [
      "\u001b[1m\u001b[22mSaving 10 x 6.67 in image\n"
     ]
    },
    {
     "data": {
      "image/png": "[encoded data removed]",
      "text/plain": [
       "plot without title"
      ]
     },
     "metadata": {
      "image/png": {
       "height": 420,
       "width": 420
      }
     },
     "output_type": "display_data"
    }
   ],
   "source": [
    "speed8_plot <- ggplot(speed8, aes(x,y,z=cs*10^6))+geom_contour_filled(breaks=seq(0,18,2))+ \n",
    "    scale_fill_viridis_d(drop = FALSE)+\n",
    "    guides(fill=guide_legend(title=TeX(\"Concentration $\\\\left[\\\\frac{\\\\mu g}{m^3}\\\\right]$\")))\n",
    "speed8_plot\n",
    "#ggsave('./plots/speed/speed8_plot.jpg', speed8_plot, 'jpg', width=10)"
   ]
  },
  {
   "cell_type": "markdown",
   "id": "atomic-writer",
   "metadata": {},
   "source": [
    "### Maksymalne koncentracje dla różnych prędkości"
   ]
  },
  {
   "cell_type": "code",
   "execution_count": 145,
   "id": "prostate-ceremony",
   "metadata": {},
   "outputs": [],
   "source": [
    "css_speed <- data.frame(speed2$cs, speed3$cs, speed4$cs, speed5$cs, speed6$cs, speed7$cs, speed8$cs)\n",
    "css_speed_max <- sapply(css_speed*10^6, max)"
   ]
  },
  {
   "cell_type": "code",
   "execution_count": 146,
   "id": "devoted-madness",
   "metadata": {
    "scrolled": false
   },
   "outputs": [
    {
     "data": {
      "image/png": "[encoded data removed]",
      "text/plain": [
       "plot without title"
      ]
     },
     "metadata": {
      "image/png": {
       "height": 420,
       "width": 420
      }
     },
     "output_type": "display_data"
    }
   ],
   "source": [
    "ggplot(mapping=aes(1:7,css_speed_max))+geom_point()+geom_line()"
   ]
  },
  {
   "cell_type": "code",
   "execution_count": 152,
   "id": "eastern-challenge",
   "metadata": {},
   "outputs": [],
   "source": [
    "check_speed2 <- data.frame(id=1:8,clouds=rep(20,8),sun=rep(400,8),speed=0:7, direction=rep(0,8))"
   ]
  },
  {
   "cell_type": "code",
   "execution_count": 76,
   "id": "secure-convert",
   "metadata": {},
   "outputs": [],
   "source": [
    "sx <- seq(0.01,2.01,0.01)\n",
    "sy <- seq(-10,10,.01)\n",
    "nx <- length(sx)\n",
    "ny <- length(sy)\n",
    "for(j in 2:8){\n",
    "    y_s1 <- c()\n",
    "    cond_s1 <- c()\n",
    "    for(i in sy){\n",
    "        y_s1 <- c(y_s1,rep(i,nx))\n",
    "        cond_s1 <- c(cond_s1,gaussian_plume_xyh(check_speed2[j,],i,1.7,h=10,x_vec=sx))\n",
    "    }\n",
    "    temp <- data.frame(y_s1,rep(sx,ny),cond_s1)\n",
    "    colnames(temp) <- c('y','x','cs')\n",
    "    write.csv(temp,paste('./speed/speed2',j, '.csv'))\n",
    "}"
   ]
  },
  {
   "cell_type": "code",
   "execution_count": 148,
   "id": "concerned-failure",
   "metadata": {},
   "outputs": [],
   "source": [
    "speed21 <- read.csv('./speed/speed2 1 .csv')[,2:4]\n",
    "speed22 <- read.csv('./speed/speed2 2 .csv')[,2:4]\n",
    "speed23 <- read.csv('./speed/speed2 3 .csv')[,2:4]\n",
    "speed24 <- read.csv('./speed/speed2 4 .csv')[,2:4]\n",
    "speed25 <- read.csv('./speed/speed2 5 .csv')[,2:4]\n",
    "speed26 <- read.csv('./speed/speed2 6 .csv')[,2:4]\n",
    "speed27 <- read.csv('./speed/speed2 7 .csv')[,2:4]\n",
    "speed28 <- read.csv('./speed/speed2 8 .csv')[,2:4]"
   ]
  },
  {
   "cell_type": "code",
   "execution_count": 149,
   "id": "marked-andrew",
   "metadata": {},
   "outputs": [],
   "source": [
    "css_speed2 <- data.frame(speed22$cs, speed23$cs, speed24$cs, speed25$cs, speed26$cs, speed27$cs, speed28$cs)\n",
    "css_speed2_max <- sapply(css_speed2*10^6, max)"
   ]
  },
  {
   "cell_type": "code",
   "execution_count": null,
   "id": "moderate-armor",
   "metadata": {},
   "outputs": [],
   "source": [
    "check_speed3 <- data.frame(id=1:8,clouds=rep(20,8),sun=rep(600,8),speed=0:7, direction=rep(0,8))\n",
    "sx <- seq(0.01,2.01,0.01)\n",
    "sy <- seq(-10,10,.01)\n",
    "nx <- length(sx)\n",
    "ny <- length(sy)\n",
    "for(j in 2:8){\n",
    "    y_s1 <- c()\n",
    "    cond_s1 <- c()\n",
    "    for(i in sy){\n",
    "        y_s1 <- c(y_s1,rep(i,nx))\n",
    "        cond_s1 <- c(cond_s1,gaussian_plume_xyh(check_speed3[j,],i,1.7,h=10,x_vec=sx))\n",
    "    }\n",
    "    temp <- data.frame(y_s1,rep(sx,ny),cond_s1)\n",
    "    colnames(temp) <- c('y','x','cs')\n",
    "    write.csv(temp,paste('./speed/speed3',j, '.csv'))\n",
    "}"
   ]
  },
  {
   "cell_type": "code",
   "execution_count": null,
   "id": "curious-exclusive",
   "metadata": {},
   "outputs": [],
   "source": [
    "speed31 <- read.csv('./speed/speed3 1 .csv')[,2:4]\n",
    "speed32 <- read.csv('./speed/speed3 2 .csv')[,2:4]\n",
    "speed33 <- read.csv('./speed/speed3 3 .csv')[,2:4]\n",
    "speed34 <- read.csv('./speed/speed3 4 .csv')[,2:4]\n",
    "speed35 <- read.csv('./speed/speed3 5 .csv')[,2:4]\n",
    "speed36 <- read.csv('./speed/speed3 6 .csv')[,2:4]\n",
    "speed37 <- read.csv('./speed/speed3 7 .csv')[,2:4]\n",
    "speed38 <- read.csv('./speed/speed3 8 .csv')[,2:4]"
   ]
  },
  {
   "cell_type": "code",
   "execution_count": null,
   "id": "distinguished-projection",
   "metadata": {},
   "outputs": [],
   "source": [
    "css_speed3 <- data.frame(speed32$cs, speed33$cs, speed34$cs, speed35$cs, speed36$cs, speed37$cs, speed38$cs)\n",
    "css_speed3_max <- sapply(css_speed3*10^6, max)"
   ]
  },
  {
   "cell_type": "code",
   "execution_count": 167,
   "id": "changing-bracket",
   "metadata": {},
   "outputs": [],
   "source": [
    "check_speed4 <- data.frame(id=1:8,clouds=rep(100,8),sun=rep(100,8),speed=0:7, direction=rep(0,8))\n",
    "sx <- seq(0.01,2.01,0.01)\n",
    "sy <- seq(-10,10,.01)\n",
    "nx <- length(sx)\n",
    "ny <- length(sy)\n",
    "for(j in 2:8){\n",
    "    y_s1 <- c()\n",
    "    cond_s1 <- c()\n",
    "    for(i in sy){\n",
    "        y_s1 <- c(y_s1,rep(i,nx))\n",
    "        cond_s1 <- c(cond_s1,gaussian_plume_xyh(check_speed4[j,],i,1.7,h=10,x_vec=sx))\n",
    "    }\n",
    "    temp <- data.frame(y_s1,rep(sx,ny),cond_s1)\n",
    "    colnames(temp) <- c('y','x','cs')\n",
    "    write.csv(temp,paste('./speed/speed4',j, '.csv'))\n",
    "}"
   ]
  },
  {
   "cell_type": "code",
   "execution_count": 168,
   "id": "increased-agent",
   "metadata": {},
   "outputs": [],
   "source": [
    "speed42 <- read.csv('./speed/speed4 2 .csv')[,2:4]\n",
    "speed43 <- read.csv('./speed/speed4 3 .csv')[,2:4]\n",
    "speed44 <- read.csv('./speed/speed4 4 .csv')[,2:4]\n",
    "speed45 <- read.csv('./speed/speed4 5 .csv')[,2:4]\n",
    "speed46 <- read.csv('./speed/speed4 6 .csv')[,2:4]\n",
    "speed47 <- read.csv('./speed/speed4 7 .csv')[,2:4]\n",
    "speed48 <- read.csv('./speed/speed4 8 .csv')[,2:4]"
   ]
  },
  {
   "cell_type": "code",
   "execution_count": 169,
   "id": "flush-communications",
   "metadata": {},
   "outputs": [],
   "source": [
    "css_speed4 <- data.frame(speed42$cs, speed43$cs, speed44$cs, speed45$cs, speed46$cs, speed47$cs, speed48$cs)\n",
    "css_speed4_max <- sapply(css_speed4*10^6, max)"
   ]
  },
  {
   "cell_type": "code",
   "execution_count": 173,
   "id": "increasing-avatar",
   "metadata": {},
   "outputs": [
    {
     "name": "stderr",
     "output_type": "stream",
     "text": [
      "\u001b[1m\u001b[22mSaving 10 x 6.67 in image\n"
     ]
    },
    {
     "data": {
      "image/png": "[encoded data removed]",
      "text/plain": [
       "plot without title"
      ]
     },
     "metadata": {
      "image/png": {
       "height": 420,
       "width": 420
      }
     },
     "output_type": "display_data"
    }
   ],
   "source": [
    "speed_max_conc_plot <- ggplot(mapping=aes(1:7,css_speed2_max))+geom_point(aes(col='clouds: 20, sun: 400'),cex=3)+\n",
    "    geom_line(aes(col='clouds: 20, sun: 400'), linewidth=1)+\n",
    "    geom_point(aes(1:7,css_speed_max, col='clouds: 20, sun: 100'), cex=3)+\n",
    "    geom_line(aes(1:7,css_speed_max, col='clouds: 20, sun: 100'),col='hotpink',linewidth=1)+\n",
    "    geom_point(aes(1:7,css_speed3_max, col='clouds: 20, sun: 600'),col='skyblue',cex=3)+\n",
    "    geom_line(aes(1:7,css_speed3_max, col='clouds: 20, sun: 600'),linewidth=1)+\n",
    "    geom_point(aes(1:7,css_speed4_max, col='clouds: 100, sun: 100'),cex=3)+\n",
    "    geom_line(aes(1:7,css_speed4_max, col='clouds: 100, sun: 100'),linewidth=1)+\n",
    "    xlab('Speed')+ylab('maximum concentration')+\n",
    "    guides(fill=guide_legend(title='Parameters'))\n",
    "speed_max_conc_plot\n",
    "#ggsave('./plots/speed/speed_max_conc_plot.jpg', speed_max_conc_plot, 'jpg', width=10)"
   ]
  },
  {
   "cell_type": "markdown",
   "id": "center-arrangement",
   "metadata": {},
   "source": [
    "# Zanieczyszczenie w zależności od zachmurzenia"
   ]
  },
  {
   "cell_type": "markdown",
   "id": "domestic-fitness",
   "metadata": {},
   "source": [
    "### prędkość wiatru: $3\\frac{m}{s}$, zachmurzenie: $\\left[0,100\\right]\\%$, nasłonecznienie: $100\\frac{W}{m^2}$"
   ]
  },
  {
   "cell_type": "code",
   "execution_count": 42,
   "id": "other-roman",
   "metadata": {},
   "outputs": [],
   "source": [
    "check_clouds <- data.frame(id=1:10,clouds=linspace(0,100,10),sun=rep(100,10),speed=rep(3,10), direction=rep(0,10))"
   ]
  },
  {
   "cell_type": "code",
   "execution_count": 43,
   "id": "acute-terrorism",
   "metadata": {},
   "outputs": [],
   "source": [
    "sx <- seq(0.01,2.01,0.01)\n",
    "sy <- seq(-10,10,.01)\n",
    "nx <- length(sx)\n",
    "ny <- length(sy)\n",
    "for(j in 1:10){\n",
    "    y_c1 <- c()\n",
    "    cond_c1 <- c()\n",
    "    for(i in sy){\n",
    "        y_c1 <- c(y_c1,rep(i,nx))\n",
    "        cond_c1 <- c(cond_c1,gaussian_plume_xyh(check_clouds[j,],i,1.7,h=10,x_vec=sx))\n",
    "    }\n",
    "    temp <- data.frame(y_c1,rep(sx,ny),cond_c1)\n",
    "    colnames(temp) <- c('y','x','cs')\n",
    "    write.csv(temp,paste('./clouds/clouds',j, '.csv'))\n",
    "}"
   ]
  },
  {
   "cell_type": "code",
   "execution_count": 50,
   "id": "integral-finnish",
   "metadata": {},
   "outputs": [],
   "source": [
    "clouds1 <- read.csv('./clouds/clouds 1 .csv')[,2:4]\n",
    "clouds2 <- read.csv('./clouds/clouds 2 .csv')[,2:4]\n",
    "clouds3 <- read.csv('./clouds/clouds 3 .csv')[,2:4]\n",
    "clouds4 <- read.csv('./clouds/clouds 4 .csv')[,2:4]\n",
    "clouds5 <- read.csv('./clouds/clouds 5 .csv')[,2:4]\n",
    "clouds6 <- read.csv('./clouds/clouds 6 .csv')[,2:4]\n",
    "clouds7 <- read.csv('./clouds/clouds 7 .csv')[,2:4]\n",
    "clouds8 <- read.csv('./clouds/clouds 8 .csv')[,2:4]\n",
    "clouds9 <- read.csv('./clouds/clouds 9 .csv')[,2:4]\n",
    "clouds10 <- read.csv('./clouds/clouds 10 .csv')[,2:4]"
   ]
  },
  {
   "cell_type": "code",
   "execution_count": 82,
   "id": "stainless-interim",
   "metadata": {},
   "outputs": [],
   "source": [
    "css_clouds <- data.frame(clouds2$cs, clouds3$cs, clouds4$cs, clouds5$cs, clouds6$cs, clouds7$cs, clouds8$cs, clouds9$cs, clouds10$cs)\n",
    "css_clouds_max <- sapply(css_clouds*10^6, max)"
   ]
  },
  {
   "cell_type": "code",
   "execution_count": 84,
   "id": "isolated-fundamentals",
   "metadata": {},
   "outputs": [
    {
     "data": {
      "image/png": "[encoded data removed]",
      "text/plain": [
       "plot without title"
      ]
     },
     "metadata": {
      "image/png": {
       "height": 420,
       "width": 420
      }
     },
     "output_type": "display_data"
    }
   ],
   "source": [
    "ggplot(mapping=aes(1:9,css_clouds_max))+geom_point()+geom_line()"
   ]
  },
  {
   "cell_type": "code",
   "execution_count": 98,
   "id": "little-thong",
   "metadata": {},
   "outputs": [],
   "source": [
    "check_clouds_max <- data.frame(id=1:20,clouds=linspace(0,100,20),sun=rep(100,20),speed=rep(3,20), direction=rep(0,20))"
   ]
  },
  {
   "cell_type": "code",
   "execution_count": 99,
   "id": "worst-tanzania",
   "metadata": {},
   "outputs": [],
   "source": [
    "max_clouds <- c()\n",
    "sx <- seq(0.01,2.01,0.01)\n",
    "sy <- seq(-10,10,.01)\n",
    "nx <- length(sx)\n",
    "ny <- length(sy)\n",
    "for(j in 1:20){\n",
    "    temp <- c()\n",
    "    for(i in sy) temp <- max(gaussian_plume_xyh(check_clouds_max[j,],i,1.7,h=10,x_vec=sx))\n",
    "    max_clouds <- c(max_clouds,max(temp))\n",
    "}"
   ]
  },
  {
   "cell_type": "code",
   "execution_count": 100,
   "id": "balanced-black",
   "metadata": {},
   "outputs": [],
   "source": [
    "df_max_clouds <- data.frame(clouds=linspace(0,100,20), max_val=max_clouds*10^6)"
   ]
  },
  {
   "cell_type": "code",
   "execution_count": 101,
   "id": "opened-advocacy",
   "metadata": {},
   "outputs": [
    {
     "data": {
      "image/png": "[encoded data removed]",
      "text/plain": [
       "plot without title"
      ]
     },
     "metadata": {
      "image/png": {
       "height": 420,
       "width": 420
      }
     },
     "output_type": "display_data"
    }
   ],
   "source": [
    "ggplot(df_max_clouds, aes(clouds,max_val))+geom_point()+geom_line()"
   ]
  },
  {
   "cell_type": "markdown",
   "id": "young-crime",
   "metadata": {},
   "source": [
    "# Zanieczyszczenie w zależności od wysokości słońca/nasłonecznienia"
   ]
  },
  {
   "cell_type": "markdown",
   "id": "physical-emergency",
   "metadata": {},
   "source": [
    "### prędkość wiatru: $3\\frac{m}{s}$, zachmurzenie: $20\\%$, nasłonecznienie: $\\left[0,719\\right]\\frac{W}{m^2}$"
   ]
  },
  {
   "cell_type": "code",
   "execution_count": 46,
   "id": "continuous-music",
   "metadata": {},
   "outputs": [],
   "source": [
    "check_sun <- data.frame(id=1:15,clouds=rep(20,15),sun=linspace(0,719,15),speed=rep(3,15), direction=rep(0,15))"
   ]
  },
  {
   "cell_type": "code",
   "execution_count": 47,
   "id": "understood-little",
   "metadata": {},
   "outputs": [],
   "source": [
    "sx <- seq(0.01,2.01,0.01)\n",
    "sy <- seq(-10,10,.01)\n",
    "nx <- length(sx)\n",
    "ny <- length(sy)\n",
    "for(j in 1:15){\n",
    "    y_sun1 <- c()\n",
    "    cond_sun1 <- c()\n",
    "    for(i in sy){\n",
    "        y_sun1 <- c(y_sun1,rep(i,nx))\n",
    "        cond_sun1 <- c(cond_sun1,gaussian_plume_xyh(check_sun[j,],i,1.7,h=10,x_vec=sx))\n",
    "    }\n",
    "    temp <- data.frame(y_sun1,rep(sx,ny),cond_sun1)\n",
    "    colnames(temp) <- c('y','x','cs')\n",
    "    write.csv(temp,paste('./sun/sun',j, '.csv'))\n",
    "}"
   ]
  },
  {
   "cell_type": "code",
   "execution_count": 174,
   "id": "competitive-clear",
   "metadata": {},
   "outputs": [],
   "source": [
    "sun1 <- read.csv('./sun/sun 1 .csv')[,2:4]\n",
    "sun2 <- read.csv('./sun/sun 2 .csv')[,2:4]\n",
    "sun3 <- read.csv('./sun/sun 3 .csv')[,2:4]\n",
    "sun4 <- read.csv('./sun/sun 4 .csv')[,2:4]\n",
    "sun5 <- read.csv('./sun/sun 5 .csv')[,2:4]\n",
    "sun6 <- read.csv('./sun/sun 6 .csv')[,2:4]\n",
    "sun7 <- read.csv('./sun/sun 7 .csv')[,2:4]\n",
    "sun8 <- read.csv('./sun/sun 8 .csv')[,2:4]\n",
    "sun9 <- read.csv('./sun/sun 9 .csv')[,2:4]\n",
    "sun10 <- read.csv('./sun/sun 10 .csv')[,2:4]\n",
    "sun11 <- read.csv('./sun/sun 11 .csv')[,2:4]\n",
    "sun12 <- read.csv('./sun/sun 12 .csv')[,2:4]\n",
    "sun13 <- read.csv('./sun/sun 13 .csv')[,2:4]\n",
    "sun14 <- read.csv('./sun/sun 14 .csv')[,2:4]\n",
    "sun15 <- read.csv('./sun/sun 15 .csv')[,2:4]"
   ]
  },
  {
   "cell_type": "code",
   "execution_count": 175,
   "id": "judicial-alfred",
   "metadata": {},
   "outputs": [],
   "source": [
    "css_sun <- data.frame(sun1$cs, sun2$cs, sun3$cs, sun4$cs, sun5$cs, \n",
    "                        sun6$cs, sun7$cs, sun8$cs, sun9$cs, sun10$cs, \n",
    "                        sun11$cs, sun12$cs, sun13$cs, sun14$cs, sun15$cs)\n",
    "css_sun_max <- sapply(css_sun*10^6, max)"
   ]
  },
  {
   "cell_type": "code",
   "execution_count": 177,
   "id": "analyzed-stability",
   "metadata": {},
   "outputs": [
    {
     "data": {
      "image/png": "[encoded data removed]",
      "text/plain": [
       "plot without title"
      ]
     },
     "metadata": {
      "image/png": {
       "height": 420,
       "width": 420
      }
     },
     "output_type": "display_data"
    }
   ],
   "source": [
    "ggplot(mapping=aes(linspace(0,719,15),css_sun_max))+geom_point()+geom_line()"
   ]
  },
  {
   "cell_type": "markdown",
   "id": "loaded-woman",
   "metadata": {},
   "source": [
    "## Maksymalne koncentracje dla różnych wartości zachmurzenia i nasłonecznienia\n",
    "\n",
    "### prędkość wiatru: $3\\frac{m}{s}$, zachmurzenie: $\\left[0,100\\right]\\%$, nasłonecznienie: $\\left[0,719\\right]\\frac{W}{m^2}$"
   ]
  },
  {
   "cell_type": "code",
   "execution_count": 103,
   "id": "technological-great",
   "metadata": {},
   "outputs": [],
   "source": [
    "check_maxes <- data.frame(id=1:400,clouds=rep(linspace(0,100,20),20),\n",
    "                          sun=rep(linspace(0,719,20), each=20),speed=rep(3,400), direction=rep(0,400))"
   ]
  },
  {
   "cell_type": "code",
   "execution_count": 104,
   "id": "ancient-findings",
   "metadata": {},
   "outputs": [],
   "source": [
    "maxes <- c()\n",
    "sx <- seq(0.01,2.01,0.01)\n",
    "sy <- seq(-10,10,.01)\n",
    "nx <- length(sx)\n",
    "ny <- length(sy)\n",
    "for(j in 1:400){\n",
    "    temp <- c()\n",
    "    for(i in sy) temp <- max(gaussian_plume_xyh(check_maxes[j,],i,1.7,h=10,x_vec=sx))\n",
    "    maxes <- c(maxes,max(temp))\n",
    "}"
   ]
  },
  {
   "cell_type": "code",
   "execution_count": 115,
   "id": "dominican-stadium",
   "metadata": {},
   "outputs": [],
   "source": [
    "df_maxes <- data.frame(clouds=rep(linspace(0,100,20),20), sun=rep(linspace(0,719,20),each=20), max_val=maxes*10^6)"
   ]
  },
  {
   "cell_type": "code",
   "execution_count": 179,
   "id": "subjective-anderson",
   "metadata": {},
   "outputs": [
    {
     "name": "stderr",
     "output_type": "stream",
     "text": [
      "\u001b[1m\u001b[22mSaving 10 x 6.67 in image\n"
     ]
    },
    {
     "data": {
      "image/png": "[encoded data removed]",
      "text/plain": [
       "plot without title"
      ]
     },
     "metadata": {
      "image/png": {
       "height": 420,
       "width": 420
      }
     },
     "output_type": "display_data"
    }
   ],
   "source": [
    "df_maxes_clouds_sun_plot <- ggplot(df_maxes[df_maxes$sun<400,], aes(clouds, sun, z=max_val))+geom_contour_filled()+\n",
    "    guides(fill=guide_legend(title=TeX(\"Concentration $\\\\left[\\\\frac{\\\\mu g}{m^3}\\\\right]$\")))\n",
    "df_maxes_clouds_sun_plot\n",
    "#ggsave('./plots/df_maxes_clouds_sun_plot.jpg', df_maxes_clouds_sun_plot, 'jpg', width=10)"
   ]
  },
  {
   "cell_type": "markdown",
   "id": "incorporate-thanksgiving",
   "metadata": {},
   "source": [
    "## Maksymalne koncentracje dla różnych wartości zachmurzenia i prędkości wiatru\n",
    "\n",
    "### prędkość wiatru: $\\left[1,7\\right]\\frac{m}{s}$, zachmurzenie: $\\left[0,100\\right]\\%$, nasłonecznienie: $100\\frac{W}{m^2}$"
   ]
  },
  {
   "cell_type": "code",
   "execution_count": 112,
   "id": "specialized-portuguese",
   "metadata": {},
   "outputs": [],
   "source": [
    "check_maxes2 <- data.frame(id=1:140,clouds=rep(linspace(0,100,20),7),\n",
    "                          sun=rep(100,140),speed=rep(1:7,each=20), direction=rep(0,140))"
   ]
  },
  {
   "cell_type": "code",
   "execution_count": 114,
   "id": "lucky-honey",
   "metadata": {},
   "outputs": [],
   "source": [
    "maxes2 <- c()\n",
    "sx <- seq(0.01,2.01,0.01)\n",
    "sy <- seq(-10,10,.01)\n",
    "nx <- length(sx)\n",
    "ny <- length(sy)\n",
    "for(j in 1:140){\n",
    "    temp <- c()\n",
    "    for(i in sy) temp <- max(gaussian_plume_xyh(check_maxes2[j,],i,1.7,h=10,x_vec=sx))\n",
    "    maxes2 <- c(maxes2,max(temp))\n",
    "}"
   ]
  },
  {
   "cell_type": "code",
   "execution_count": 120,
   "id": "musical-aircraft",
   "metadata": {},
   "outputs": [],
   "source": [
    "df_maxes2 <- data.frame(clouds=rep(linspace(0,100,20),7), speed=rep(1:7,each=20), max_val=maxes2*10^6)"
   ]
  },
  {
   "cell_type": "code",
   "execution_count": 185,
   "id": "affecting-belief",
   "metadata": {
    "scrolled": false
   },
   "outputs": [
    {
     "name": "stderr",
     "output_type": "stream",
     "text": [
      "\u001b[1m\u001b[22mSaving 10 x 6.67 in image\n"
     ]
    },
    {
     "data": {
      "image/png": "[encoded data removed]",
      "text/plain": [
       "plot without title"
      ]
     },
     "metadata": {
      "image/png": {
       "height": 420,
       "width": 420
      }
     },
     "output_type": "display_data"
    }
   ],
   "source": [
    "df_maxes_clouds_speed_plot <- ggplot(df_maxes2, aes(clouds, speed, z=max_val))+geom_contour_filled()+\n",
    "    guides(fill=guide_legend(title=TeX(\"Concentration $\\\\left[\\\\frac{\\\\mu g}{m^3}\\\\right]$\")))\n",
    "df_maxes_clouds_speed_plot\n",
    "#ggsave('./plots/df_maxes_clouds_speed_plot.jpg', df_maxes_clouds_speed_plot, 'jpg', width=10)"
   ]
  },
  {
   "cell_type": "code",
   "execution_count": null,
   "id": "structural-marsh",
   "metadata": {},
   "outputs": [],
   "source": []
  }
 ],
 "metadata": {
  "kernelspec": {
   "display_name": "R",
   "language": "R",
   "name": "ir"
  },
  "language_info": {
   "codemirror_mode": "r",
   "file_extension": ".r",
   "mimetype": "text/x-r-source",
   "name": "R",
   "pygments_lexer": "r",
   "version": "4.2.1"
  }
 },
 "nbformat": 4,
 "nbformat_minor": 5
}
