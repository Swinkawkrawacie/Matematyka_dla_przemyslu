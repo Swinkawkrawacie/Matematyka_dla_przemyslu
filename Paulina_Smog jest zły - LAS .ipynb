{
 "cells": [
  {
   "cell_type": "markdown",
   "id": "59549fd1",
   "metadata": {},
   "source": [
    "# DANE - połączenie i przygotowanie"
   ]
  },
  {
   "cell_type": "code",
   "execution_count": 1,
   "id": "c8b18e68",
   "metadata": {},
   "outputs": [],
   "source": [
    "import pandas as pd\n",
    "\n",
    "df = pd.read_csv('part1/data.csv')\n",
    "df = df.dropna(subset=['value'])\n",
    "df = df.drop([\"Unnamed: 0\"], axis=1)\n",
    "df.columns = ['YEAR', 'MONTH', 'DAY','City','Type','Value']"
   ]
  },
  {
   "cell_type": "code",
   "execution_count": 2,
   "id": "eb2ba79b",
   "metadata": {},
   "outputs": [],
   "source": [
    "df_w = pd.read_csv('Data/average_daily_weather.csv')\n",
    "#df = df.dropna(subset=['value'])\n",
    "#df = df.drop([\"Unnamed: 0\"], axis=1)"
   ]
  },
  {
   "cell_type": "code",
   "execution_count": 3,
   "id": "e6bb37d5",
   "metadata": {},
   "outputs": [
    {
     "data": {
      "text/html": [
       "<div>\n",
       "<style scoped>\n",
       "    .dataframe tbody tr th:only-of-type {\n",
       "        vertical-align: middle;\n",
       "    }\n",
       "\n",
       "    .dataframe tbody tr th {\n",
       "        vertical-align: top;\n",
       "    }\n",
       "\n",
       "    .dataframe thead th {\n",
       "        text-align: right;\n",
       "    }\n",
       "</style>\n",
       "<table border=\"1\" class=\"dataframe\">\n",
       "  <thead>\n",
       "    <tr style=\"text-align: right;\">\n",
       "      <th></th>\n",
       "      <th>YEAR</th>\n",
       "      <th>MONTH</th>\n",
       "      <th>DAY</th>\n",
       "      <th>City</th>\n",
       "      <th>Type</th>\n",
       "      <th>Value</th>\n",
       "      <th>Temperature</th>\n",
       "      <th>Wind</th>\n",
       "    </tr>\n",
       "  </thead>\n",
       "  <tbody>\n",
       "    <tr>\n",
       "      <th>0</th>\n",
       "      <td>2019</td>\n",
       "      <td>1</td>\n",
       "      <td>8</td>\n",
       "      <td>Warszawa</td>\n",
       "      <td>PM10</td>\n",
       "      <td>52.78</td>\n",
       "      <td>-2.6</td>\n",
       "      <td>3.0</td>\n",
       "    </tr>\n",
       "    <tr>\n",
       "      <th>1</th>\n",
       "      <td>2019</td>\n",
       "      <td>1</td>\n",
       "      <td>8</td>\n",
       "      <td>Warszawa</td>\n",
       "      <td>PM2,5</td>\n",
       "      <td>35.56</td>\n",
       "      <td>-2.6</td>\n",
       "      <td>3.0</td>\n",
       "    </tr>\n",
       "    <tr>\n",
       "      <th>2</th>\n",
       "      <td>2019</td>\n",
       "      <td>1</td>\n",
       "      <td>9</td>\n",
       "      <td>Warszawa</td>\n",
       "      <td>PM10</td>\n",
       "      <td>43.53</td>\n",
       "      <td>-3.1</td>\n",
       "      <td>0.0</td>\n",
       "    </tr>\n",
       "    <tr>\n",
       "      <th>3</th>\n",
       "      <td>2019</td>\n",
       "      <td>1</td>\n",
       "      <td>9</td>\n",
       "      <td>Warszawa</td>\n",
       "      <td>PM2,5</td>\n",
       "      <td>38.64</td>\n",
       "      <td>-3.1</td>\n",
       "      <td>0.0</td>\n",
       "    </tr>\n",
       "    <tr>\n",
       "      <th>4</th>\n",
       "      <td>2019</td>\n",
       "      <td>1</td>\n",
       "      <td>10</td>\n",
       "      <td>Warszawa</td>\n",
       "      <td>PM10</td>\n",
       "      <td>46.63</td>\n",
       "      <td>-6.8</td>\n",
       "      <td>2.5</td>\n",
       "    </tr>\n",
       "    <tr>\n",
       "      <th>...</th>\n",
       "      <td>...</td>\n",
       "      <td>...</td>\n",
       "      <td>...</td>\n",
       "      <td>...</td>\n",
       "      <td>...</td>\n",
       "      <td>...</td>\n",
       "      <td>...</td>\n",
       "      <td>...</td>\n",
       "    </tr>\n",
       "    <tr>\n",
       "      <th>24470</th>\n",
       "      <td>2021</td>\n",
       "      <td>2</td>\n",
       "      <td>14</td>\n",
       "      <td>Katowice</td>\n",
       "      <td>PM2,5</td>\n",
       "      <td>33.20</td>\n",
       "      <td>-5.3</td>\n",
       "      <td>0.0</td>\n",
       "    </tr>\n",
       "    <tr>\n",
       "      <th>24471</th>\n",
       "      <td>2021</td>\n",
       "      <td>2</td>\n",
       "      <td>15</td>\n",
       "      <td>Katowice</td>\n",
       "      <td>PM2,5</td>\n",
       "      <td>59.70</td>\n",
       "      <td>-7.1</td>\n",
       "      <td>1.5</td>\n",
       "    </tr>\n",
       "    <tr>\n",
       "      <th>24472</th>\n",
       "      <td>2021</td>\n",
       "      <td>2</td>\n",
       "      <td>16</td>\n",
       "      <td>Katowice</td>\n",
       "      <td>PM2,5</td>\n",
       "      <td>54.90</td>\n",
       "      <td>-4.2</td>\n",
       "      <td>0.0</td>\n",
       "    </tr>\n",
       "    <tr>\n",
       "      <th>24473</th>\n",
       "      <td>2021</td>\n",
       "      <td>2</td>\n",
       "      <td>17</td>\n",
       "      <td>Katowice</td>\n",
       "      <td>PM2,5</td>\n",
       "      <td>33.50</td>\n",
       "      <td>1.1</td>\n",
       "      <td>3.7</td>\n",
       "    </tr>\n",
       "    <tr>\n",
       "      <th>24474</th>\n",
       "      <td>2021</td>\n",
       "      <td>12</td>\n",
       "      <td>26</td>\n",
       "      <td>Katowice</td>\n",
       "      <td>PM2,5</td>\n",
       "      <td>55.50</td>\n",
       "      <td>-9.3</td>\n",
       "      <td>1.5</td>\n",
       "    </tr>\n",
       "  </tbody>\n",
       "</table>\n",
       "<p>24475 rows × 8 columns</p>\n",
       "</div>"
      ],
      "text/plain": [
       "       YEAR  MONTH  DAY      City   Type  Value  Temperature  Wind\n",
       "0      2019      1    8  Warszawa   PM10  52.78         -2.6   3.0\n",
       "1      2019      1    8  Warszawa  PM2,5  35.56         -2.6   3.0\n",
       "2      2019      1    9  Warszawa   PM10  43.53         -3.1   0.0\n",
       "3      2019      1    9  Warszawa  PM2,5  38.64         -3.1   0.0\n",
       "4      2019      1   10  Warszawa   PM10  46.63         -6.8   2.5\n",
       "...     ...    ...  ...       ...    ...    ...          ...   ...\n",
       "24470  2021      2   14  Katowice  PM2,5  33.20         -5.3   0.0\n",
       "24471  2021      2   15  Katowice  PM2,5  59.70         -7.1   1.5\n",
       "24472  2021      2   16  Katowice  PM2,5  54.90         -4.2   0.0\n",
       "24473  2021      2   17  Katowice  PM2,5  33.50          1.1   3.7\n",
       "24474  2021     12   26  Katowice  PM2,5  55.50         -9.3   1.5\n",
       "\n",
       "[24475 rows x 8 columns]"
      ]
     },
     "execution_count": 3,
     "metadata": {},
     "output_type": "execute_result"
    }
   ],
   "source": [
    "merged_df = pd.merge(df, df_w, on=['YEAR','MONTH','DAY','City'], how='inner')\n",
    "merged_df\n",
    "merged_df = merged_df.drop([\"Humidity\"], axis=1)\n",
    "merged_df = merged_df.dropna()\n",
    "merged_df"
   ]
  },
  {
   "cell_type": "code",
   "execution_count": 4,
   "id": "84822523",
   "metadata": {},
   "outputs": [],
   "source": [
    "PM10 = merged_df[merged_df['Type']=='PM10']"
   ]
  },
  {
   "cell_type": "code",
   "execution_count": 5,
   "id": "8b53cfa6",
   "metadata": {},
   "outputs": [
    {
     "name": "stderr",
     "output_type": "stream",
     "text": [
      "c:\\users\\artur\\appdata\\local\\programs\\python\\python37\\lib\\site-packages\\pandas\\core\\indexing.py:1773: SettingWithCopyWarning: \n",
      "A value is trying to be set on a copy of a slice from a DataFrame.\n",
      "Try using .loc[row_indexer,col_indexer] = value instead\n",
      "\n",
      "See the caveats in the documentation: https://pandas.pydata.org/pandas-docs/stable/user_guide/indexing.html#returning-a-view-versus-a-copy\n",
      "  self._setitem_single_column(ilocs[0], value, pi)\n"
     ]
    },
    {
     "data": {
      "text/html": [
       "<div>\n",
       "<style scoped>\n",
       "    .dataframe tbody tr th:only-of-type {\n",
       "        vertical-align: middle;\n",
       "    }\n",
       "\n",
       "    .dataframe tbody tr th {\n",
       "        vertical-align: top;\n",
       "    }\n",
       "\n",
       "    .dataframe thead th {\n",
       "        text-align: right;\n",
       "    }\n",
       "</style>\n",
       "<table border=\"1\" class=\"dataframe\">\n",
       "  <thead>\n",
       "    <tr style=\"text-align: right;\">\n",
       "      <th></th>\n",
       "      <th>YEAR</th>\n",
       "      <th>MONTH</th>\n",
       "      <th>DAY</th>\n",
       "      <th>City</th>\n",
       "      <th>Type</th>\n",
       "      <th>Value</th>\n",
       "      <th>Temperature</th>\n",
       "      <th>Wind</th>\n",
       "    </tr>\n",
       "  </thead>\n",
       "  <tbody>\n",
       "    <tr>\n",
       "      <th>0</th>\n",
       "      <td>2019</td>\n",
       "      <td>1</td>\n",
       "      <td>8</td>\n",
       "      <td>1</td>\n",
       "      <td>PM10</td>\n",
       "      <td>52.78</td>\n",
       "      <td>-2.6</td>\n",
       "      <td>3.0</td>\n",
       "    </tr>\n",
       "    <tr>\n",
       "      <th>2</th>\n",
       "      <td>2019</td>\n",
       "      <td>1</td>\n",
       "      <td>9</td>\n",
       "      <td>1</td>\n",
       "      <td>PM10</td>\n",
       "      <td>43.53</td>\n",
       "      <td>-3.1</td>\n",
       "      <td>0.0</td>\n",
       "    </tr>\n",
       "    <tr>\n",
       "      <th>4</th>\n",
       "      <td>2019</td>\n",
       "      <td>1</td>\n",
       "      <td>10</td>\n",
       "      <td>1</td>\n",
       "      <td>PM10</td>\n",
       "      <td>46.63</td>\n",
       "      <td>-6.8</td>\n",
       "      <td>2.5</td>\n",
       "    </tr>\n",
       "    <tr>\n",
       "      <th>6</th>\n",
       "      <td>2019</td>\n",
       "      <td>1</td>\n",
       "      <td>11</td>\n",
       "      <td>1</td>\n",
       "      <td>PM10</td>\n",
       "      <td>53.70</td>\n",
       "      <td>-7.1</td>\n",
       "      <td>0.0</td>\n",
       "    </tr>\n",
       "    <tr>\n",
       "      <th>8</th>\n",
       "      <td>2019</td>\n",
       "      <td>1</td>\n",
       "      <td>12</td>\n",
       "      <td>1</td>\n",
       "      <td>PM10</td>\n",
       "      <td>25.76</td>\n",
       "      <td>0.9</td>\n",
       "      <td>2.7</td>\n",
       "    </tr>\n",
       "    <tr>\n",
       "      <th>...</th>\n",
       "      <td>...</td>\n",
       "      <td>...</td>\n",
       "      <td>...</td>\n",
       "      <td>...</td>\n",
       "      <td>...</td>\n",
       "      <td>...</td>\n",
       "      <td>...</td>\n",
       "      <td>...</td>\n",
       "    </tr>\n",
       "    <tr>\n",
       "      <th>24405</th>\n",
       "      <td>2021</td>\n",
       "      <td>12</td>\n",
       "      <td>25</td>\n",
       "      <td>5</td>\n",
       "      <td>PM10</td>\n",
       "      <td>28.00</td>\n",
       "      <td>-4.1</td>\n",
       "      <td>0.0</td>\n",
       "    </tr>\n",
       "    <tr>\n",
       "      <th>24407</th>\n",
       "      <td>2021</td>\n",
       "      <td>12</td>\n",
       "      <td>28</td>\n",
       "      <td>5</td>\n",
       "      <td>PM10</td>\n",
       "      <td>42.30</td>\n",
       "      <td>-4.7</td>\n",
       "      <td>2.9</td>\n",
       "    </tr>\n",
       "    <tr>\n",
       "      <th>24409</th>\n",
       "      <td>2021</td>\n",
       "      <td>12</td>\n",
       "      <td>29</td>\n",
       "      <td>5</td>\n",
       "      <td>PM10</td>\n",
       "      <td>45.60</td>\n",
       "      <td>-0.7</td>\n",
       "      <td>0.0</td>\n",
       "    </tr>\n",
       "    <tr>\n",
       "      <th>24411</th>\n",
       "      <td>2021</td>\n",
       "      <td>12</td>\n",
       "      <td>30</td>\n",
       "      <td>5</td>\n",
       "      <td>PM10</td>\n",
       "      <td>15.70</td>\n",
       "      <td>4.6</td>\n",
       "      <td>4.6</td>\n",
       "    </tr>\n",
       "    <tr>\n",
       "      <th>24413</th>\n",
       "      <td>2021</td>\n",
       "      <td>12</td>\n",
       "      <td>31</td>\n",
       "      <td>5</td>\n",
       "      <td>PM10</td>\n",
       "      <td>11.60</td>\n",
       "      <td>9.7</td>\n",
       "      <td>4.8</td>\n",
       "    </tr>\n",
       "  </tbody>\n",
       "</table>\n",
       "<p>12149 rows × 8 columns</p>\n",
       "</div>"
      ],
      "text/plain": [
       "       YEAR  MONTH  DAY  City  Type  Value  Temperature  Wind\n",
       "0      2019      1    8     1  PM10  52.78         -2.6   3.0\n",
       "2      2019      1    9     1  PM10  43.53         -3.1   0.0\n",
       "4      2019      1   10     1  PM10  46.63         -6.8   2.5\n",
       "6      2019      1   11     1  PM10  53.70         -7.1   0.0\n",
       "8      2019      1   12     1  PM10  25.76          0.9   2.7\n",
       "...     ...    ...  ...   ...   ...    ...          ...   ...\n",
       "24405  2021     12   25     5  PM10  28.00         -4.1   0.0\n",
       "24407  2021     12   28     5  PM10  42.30         -4.7   2.9\n",
       "24409  2021     12   29     5  PM10  45.60         -0.7   0.0\n",
       "24411  2021     12   30     5  PM10  15.70          4.6   4.6\n",
       "24413  2021     12   31     5  PM10  11.60          9.7   4.8\n",
       "\n",
       "[12149 rows x 8 columns]"
      ]
     },
     "execution_count": 5,
     "metadata": {},
     "output_type": "execute_result"
    }
   ],
   "source": [
    "# Stworzenie słownika mapującego nazwy miast na liczby całkowite\n",
    "city_dict = {city: i+1 for i, city in enumerate(PM10['City'].unique())}\n",
    "PM10.loc[:, 'City'] = PM10['City'].replace(city_dict)\n",
    "# Zamiana nazw miast na odpowiadające im liczby całkowite\n",
    "PM10"
   ]
  },
  {
   "cell_type": "code",
   "execution_count": 6,
   "id": "eb3c74a9",
   "metadata": {},
   "outputs": [
    {
     "data": {
      "text/plain": [
       "{'Warszawa': 1, 'Wrocław': 2, 'Gdańsk': 3, 'Kraków': 4, 'Katowice': 5}"
      ]
     },
     "execution_count": 6,
     "metadata": {},
     "output_type": "execute_result"
    }
   ],
   "source": [
    "city_dict"
   ]
  },
  {
   "cell_type": "markdown",
   "id": "7b624a1a",
   "metadata": {},
   "source": [
    "# RANDOM FOREST "
   ]
  },
  {
   "cell_type": "code",
   "execution_count": 7,
   "id": "68825c8b",
   "metadata": {},
   "outputs": [],
   "source": [
    "PM10_train = PM10[PM10['YEAR']<=2018]\n",
    "PM10_test = PM10[PM10['YEAR']==2019]"
   ]
  },
  {
   "cell_type": "code",
   "execution_count": 8,
   "id": "41fb661a",
   "metadata": {},
   "outputs": [],
   "source": [
    "from sklearn.ensemble import RandomForestRegressor\n",
    "\n",
    "X=PM10_train[['City','Temperature','Wind']]\n",
    "y=PM10_train['Value']\n"
   ]
  },
  {
   "cell_type": "code",
   "execution_count": 9,
   "id": "753d9f89",
   "metadata": {},
   "outputs": [],
   "source": [
    "X_test=PM10_test[['City','Temperature','Wind']]\n",
    "y_test=PM10_test['Value']"
   ]
  },
  {
   "cell_type": "code",
   "execution_count": 10,
   "id": "fb43f14c",
   "metadata": {},
   "outputs": [
    {
     "data": {
      "text/plain": [
       "RandomForestRegressor()"
      ]
     },
     "execution_count": 10,
     "metadata": {},
     "output_type": "execute_result"
    }
   ],
   "source": [
    "rf = RandomForestRegressor()\n",
    "rf.fit(X, y)"
   ]
  },
  {
   "cell_type": "code",
   "execution_count": 11,
   "id": "1e13ff01",
   "metadata": {},
   "outputs": [],
   "source": [
    "y_predicted=rf.predict(X_test)"
   ]
  },
  {
   "cell_type": "markdown",
   "id": "02ed8748",
   "metadata": {},
   "source": [
    "# Sprawdzenie trafności przewidywań modelu"
   ]
  },
  {
   "cell_type": "code",
   "execution_count": 12,
   "id": "4be52b91",
   "metadata": {},
   "outputs": [
    {
     "name": "stdout",
     "output_type": "stream",
     "text": [
      "MSE: 429.0901066921676\n",
      "MSE sqrt: 20.714490259047352\n",
      "MAE: 14.558146963818116\n",
      "R2: 0.17301399363072045\n"
     ]
    }
   ],
   "source": [
    "import numpy as np\n",
    "from sklearn.metrics import mean_squared_error, mean_absolute_error, r2_score\n",
    "\n",
    "# błąd średniokwadratowy (mean squared error - MSE)\n",
    "mse = mean_squared_error(y_test, y_predicted)\n",
    "print(\"MSE:\", mse)\n",
    "print(\"MSE sqrt:\", np.sqrt(mse))\n",
    "\n",
    "#błąd średniowzględny (mean absolute error - MAE)\n",
    "mae = mean_absolute_error(y_test, y_predicted)\n",
    "print(\"MAE:\", mae)\n",
    "\n",
    "#współczynnik determinacji R2\n",
    "r2 = r2_score(y_test, y_predicted)\n",
    "print(\"R2:\", r2)"
   ]
  },
  {
   "cell_type": "code",
   "execution_count": 13,
   "id": "19c17553",
   "metadata": {},
   "outputs": [
    {
     "data": {
      "text/plain": [
       "[<matplotlib.lines.Line2D at 0x26f55ada588>]"
      ]
     },
     "execution_count": 13,
     "metadata": {},
     "output_type": "execute_result"
    },
    {
     "data": {
      "image/png": "[encoded data removed]",
      "text/plain": [
       "<Figure size 432x288 with 1 Axes>"
      ]
     },
     "metadata": {
      "needs_background": "light"
     },
     "output_type": "display_data"
    }
   ],
   "source": [
    "#Na wykresie true vs predicted\n",
    "import matplotlib.pyplot as plt\n",
    "\n",
    "# wykres wartości rzeczywistych i predykowanych\n",
    "plt.plot(y_test.values, label='Rzeczywiste')\n",
    "plt.plot(y_predicted)"
   ]
  },
  {
   "cell_type": "code",
   "execution_count": 14,
   "id": "9f4530d9",
   "metadata": {},
   "outputs": [
    {
     "data": {
      "text/plain": [
       "array([52.78, 43.53, 46.63, ..., 22.  , 50.2 , 24.2 ])"
      ]
     },
     "execution_count": 14,
     "metadata": {},
     "output_type": "execute_result"
    }
   ],
   "source": [
    "y_test.values"
   ]
  },
  {
   "cell_type": "code",
   "execution_count": 15,
   "id": "8e70715d",
   "metadata": {},
   "outputs": [
    {
     "data": {
      "text/plain": [
       "1724"
      ]
     },
     "execution_count": 15,
     "metadata": {},
     "output_type": "execute_result"
    }
   ],
   "source": [
    "len(y_predicted)"
   ]
  },
  {
   "cell_type": "code",
   "execution_count": 16,
   "id": "5b27be75",
   "metadata": {},
   "outputs": [
    {
     "data": {
      "text/plain": [
       "55.26184191390343"
      ]
     },
     "execution_count": 16,
     "metadata": {},
     "output_type": "execute_result"
    }
   ],
   "source": [
    "#Mean Absolute Percentage Error (MAPE)\n",
    "import numpy as np\n",
    "MAPE = (1/len(y_test)) * np.sum(abs((y_test - y_predicted)/y_test)) * 100\n",
    "MAPE"
   ]
  },
  {
   "cell_type": "code",
   "execution_count": 17,
   "id": "1024780a",
   "metadata": {},
   "outputs": [
    {
     "data": {
      "image/png": "[encoded data removed]",
      "text/plain": [
       "<Figure size 432x288 with 1 Axes>"
      ]
     },
     "metadata": {
      "needs_background": "light"
     },
     "output_type": "display_data"
    }
   ],
   "source": [
    "residuals = y_test - y_predicted\n",
    "\n",
    "# Wygenerowanie wykresu reszt\n",
    "plt.scatter(y_test, residuals)\n",
    "plt.axhline(y=0, color='r', linestyle='-')\n",
    "plt.title('Wykres reszt')\n",
    "plt.xlabel('Wartości rzeczywiste')\n",
    "plt.ylabel('Reszty')\n",
    "plt.show()"
   ]
  },
  {
   "cell_type": "markdown",
   "id": "a9fc3c80",
   "metadata": {},
   "source": [
    "# Feature importance based on mean decrease in impurity"
   ]
  },
  {
   "cell_type": "code",
   "execution_count": 25,
   "id": "8f9c3259",
   "metadata": {},
   "outputs": [
    {
     "data": {
      "image/png": "[encoded data removed]",
      "text/plain": [
       "<Figure size 432x288 with 1 Axes>"
      ]
     },
     "metadata": {
      "needs_background": "light"
     },
     "output_type": "display_data"
    }
   ],
   "source": [
    "import pandas as pd\n",
    "import time\n",
    "import numpy as np\n",
    "\n",
    "start_time = time.time()\n",
    "importances = rf.feature_importances_\n",
    "std = np.std([tree.feature_importances_ for tree in rf.estimators_], axis=0)\n",
    "elapsed_time = time.time() - start_time\n",
    "feature_names = [ i for i in X_test.columns]\n",
    "\n",
    "forest_importances = pd.Series(importances, index=feature_names)\n",
    "\n",
    "fig, ax = plt.subplots()\n",
    "forest_importances.plot.bar(yerr=std, ax=ax)\n",
    "ax.set_title(\"Feature importances using MDI\")\n",
    "ax.set_ylabel(\"Mean decrease in impurity\")\n",
    "fig.tight_layout()"
   ]
  },
  {
   "cell_type": "code",
   "execution_count": 21,
   "id": "324160c4",
   "metadata": {},
   "outputs": [
    {
     "data": {
      "text/plain": [
       "Index(['City', 'Temperature', 'Wind'], dtype='object')"
      ]
     },
     "execution_count": 21,
     "metadata": {},
     "output_type": "execute_result"
    }
   ],
   "source": [
    "X_test.columns"
   ]
  },
  {
   "cell_type": "markdown",
   "id": "9d526001",
   "metadata": {},
   "source": [
    "# Feature importance based on feature permutation"
   ]
  },
  {
   "cell_type": "code",
   "execution_count": 26,
   "id": "c78794b6",
   "metadata": {},
   "outputs": [
    {
     "name": "stdout",
     "output_type": "stream",
     "text": [
      "Elapsed time to compute the importances: 3.486 seconds\n"
     ]
    },
    {
     "data": {
      "image/png": "[encoded data removed]",
      "text/plain": [
       "<Figure size 432x288 with 1 Axes>"
      ]
     },
     "metadata": {
      "needs_background": "light"
     },
     "output_type": "display_data"
    }
   ],
   "source": [
    "from sklearn.inspection import permutation_importance\n",
    "\n",
    "start_time = time.time()\n",
    "result = permutation_importance(\n",
    "    rf, X_test, y_test, n_repeats=10, random_state=42, n_jobs=2\n",
    ")\n",
    "feature_names = [ i for i in X_test.columns]\n",
    "\n",
    "elapsed_time = time.time() - start_time\n",
    "print(f\"Elapsed time to compute the importances: {elapsed_time:.3f} seconds\")\n",
    "\n",
    "forest_importances = pd.Series(result.importances_mean, index=feature_names)\n",
    "\n",
    "fig, ax = plt.subplots()\n",
    "forest_importances.plot.bar(yerr=result.importances_std, ax=ax)\n",
    "ax.set_title(\"Feature importances using permutation on full model\")\n",
    "ax.set_ylabel(\"Mean accuracy decrease\")\n",
    "fig.tight_layout()\n",
    "plt.show()"
   ]
  },
  {
   "cell_type": "markdown",
   "id": "be8b6466",
   "metadata": {},
   "source": [
    "# SVM - Support vector machine"
   ]
  },
  {
   "cell_type": "code",
   "execution_count": 34,
   "id": "3d6c9ac0",
   "metadata": {},
   "outputs": [],
   "source": [
    "from sklearn import datasets\n",
    "from sklearn.model_selection import train_test_split\n",
    "from sklearn.svm import SVR\n",
    "\n",
    "svr = SVR()\n",
    "svr.fit(X, y)\n",
    "y_pred = svr.predict(X_test)"
   ]
  },
  {
   "cell_type": "code",
   "execution_count": 35,
   "id": "9eb69a4e",
   "metadata": {},
   "outputs": [
    {
     "name": "stdout",
     "output_type": "stream",
     "text": [
      "MSE: 405.5462447466489\n",
      "MSE sqrt: 20.13817878425576\n",
      "MAE: 13.85086231078466\n",
      "R2: 0.21839011407994446\n"
     ]
    }
   ],
   "source": [
    "import numpy as np\n",
    "from sklearn.metrics import mean_squared_error, mean_absolute_error, r2_score\n",
    "\n",
    "# błąd średniokwadratowy (mean squared error - MSE)\n",
    "mse = mean_squared_error(y_test, y_pred)\n",
    "print(\"MSE:\", mse)\n",
    "print(\"MSE sqrt:\", np.sqrt(mse))\n",
    "\n",
    "#błąd średniowzględny (mean absolute error - MAE)\n",
    "mae = mean_absolute_error(y_test, y_pred)\n",
    "print(\"MAE:\", mae)\n",
    "\n",
    "#współczynnik determinacji R2\n",
    "r2 = r2_score(y_test, y_pred)\n",
    "print(\"R2:\", r2)"
   ]
  },
  {
   "cell_type": "code",
   "execution_count": 37,
   "id": "15a5a935",
   "metadata": {},
   "outputs": [
    {
     "data": {
      "text/plain": [
       "[<matplotlib.lines.Line2D at 0x26f5d6609c8>]"
      ]
     },
     "execution_count": 37,
     "metadata": {},
     "output_type": "execute_result"
    },
    {
     "data": {
      "image/png": "[encoded data removed]",
      "text/plain": [
       "<Figure size 432x288 with 1 Axes>"
      ]
     },
     "metadata": {
      "needs_background": "light"
     },
     "output_type": "display_data"
    }
   ],
   "source": [
    "#Na wykresie true vs predicted\n",
    "import matplotlib.pyplot as plt\n",
    "\n",
    "# wykres wartości rzeczywistych i predykowanych\n",
    "plt.plot(y_test.values, label='Rzeczywiste')\n",
    "plt.plot(y_pred)"
   ]
  },
  {
   "cell_type": "code",
   "execution_count": 38,
   "id": "9ad58bc8",
   "metadata": {},
   "outputs": [
    {
     "data": {
      "text/plain": [
       "50.999519159890625"
      ]
     },
     "execution_count": 38,
     "metadata": {},
     "output_type": "execute_result"
    }
   ],
   "source": [
    "#Mean Absolute Percentage Error (MAPE)\n",
    "import numpy as np\n",
    "MAPE = (1/len(y_test)) * np.sum(abs((y_test - y_pred)/y_test)) * 100\n",
    "MAPE"
   ]
  },
  {
   "cell_type": "code",
   "execution_count": null,
   "id": "6d246169",
   "metadata": {},
   "outputs": [],
   "source": []
  }
 ],
 "metadata": {
  "kernelspec": {
   "display_name": "Python 3",
   "language": "python",
   "name": "python3"
  },
  "language_info": {
   "codemirror_mode": {
    "name": "ipython",
    "version": 3
   },
   "file_extension": ".py",
   "mimetype": "text/x-python",
   "name": "python",
   "nbconvert_exporter": "python",
   "pygments_lexer": "ipython3",
   "version": "3.7.9"
  }
 },
 "nbformat": 4,
 "nbformat_minor": 5
}
